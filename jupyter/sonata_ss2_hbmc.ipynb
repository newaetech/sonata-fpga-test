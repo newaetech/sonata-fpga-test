{
 "cells": [
  {
   "cell_type": "code",
   "execution_count": null,
   "id": "ffe9eefa-ef59-456b-9066-81902a4b8078",
   "metadata": {},
   "outputs": [],
   "source": [
    "import chipwhisperer as cw\n",
    "scope = cw.scope()\n",
    "scope.default_setup()"
   ]
  },
  {
   "cell_type": "markdown",
   "id": "8c5f4f76-773a-4839-893c-f1fa01efd821",
   "metadata": {},
   "source": [
    "Program bitfile using platform cable or other means!\n",
    "\n",
    "Use the bitfile under `impl_hbmc`:"
   ]
  },
  {
   "cell_type": "code",
   "execution_count": null,
   "id": "19df4b0d-5c96-41ce-849a-2c6a2ffbf6fc",
   "metadata": {},
   "outputs": [],
   "source": [
    "!ls -l ../fpga/vivado/sonata.runs/impl_hbmc/sonata_top.bit"
   ]
  },
  {
   "cell_type": "markdown",
   "id": "77f58718-7735-4618-99f1-ee7960885629",
   "metadata": {},
   "source": [
    "Note for the `cw.target()` call below to work, CW305.py requires an edit to block programming, in `_con()`, under the `if 'ss2' in self.platform:` block: comment out the `self.fpga.program` calls:\n",
    "```python\n",
    "            #if self.platform == 'ss2_ice40':\n",
    "            #    self.fpga.erase_and_init()\n",
    "            #    self.fpga.program(bsfile, sck_speed=prog_speed, start=True, use_fast_usb=False)\n",
    "            #else:\n",
    "            #    self.fpga.program(bsfile, sck_speed=prog_speed)\n",
    "```\n",
    "\n",
    "and also this:\n",
    "```python\n",
    "#self.fpga = CW312T_XC7A35T(scope)\n",
    "```"
   ]
  },
  {
   "cell_type": "code",
   "execution_count": null,
   "id": "3a8ce8d2-dae5-42c1-ab16-22552606fad1",
   "metadata": {},
   "outputs": [],
   "source": [
    "# Connect to target (but don't program it):\n",
    "# warning about right number of defines is safe to ignore:\n",
    "target = cw.target(scope, cw.targets.CW305, force=False, bsfile='', platform='ss2_a35', defines_files=['../fpga/hdl/sonata_defines.v'])"
   ]
  },
  {
   "cell_type": "markdown",
   "id": "d981ff08-79e0-4738-8470-ad2960ff3495",
   "metadata": {},
   "source": [
    "Diagnostic LEDs: by default, LEDs show the following:\n",
    "- `USRLED0`: main clock heartbeat (25 MHz, MAINCLK on schematic)\n",
    "- `USRLED1`: AES programmable clock heartbeat (MAINCLK multiplied by 4 (default) by FPGA PLL)\n",
    "- `USRLED2`: HyperRAM programmable clock heartbeat (MAINCLK multiplied by 8 (default) by FPGA PLL)\n",
    "- `USRLED3`: HyperRAM AXI response error\n",
    "- `USRLED4`: HyperRAM controller 90 degree shifted clock is unlocked\n",
    "- `USRLED5`: HyperRAM SERDES clock is unlocked\n",
    "- `USRLED6`: AES programmable clock MMCM is unlocked\n",
    "- `USRLED7`: HyperRAM programmable clock MMCM is unlocked\n",
    "- `CHERIERR0`: SS2 error\n",
    "- `CHERIERR1`: XADC error (temp/voltage out of spec)\n",
    "- `CHERIERR2`: settable via register write to `target.REG_USER_LED`\n",
    "- `CHERIERR3`: HyperRAM controller busy (not idle)\n",
    "- all other LEDs off\n",
    "\n",
    "Normal status is three heartbeat LEDs and no other LEDs on (except for `CHERIERR3` if a HyperRAM test is actively running)."
   ]
  },
  {
   "cell_type": "markdown",
   "id": "afe1734b-b37c-49d9-b56c-e50cf9255f26",
   "metadata": {},
   "source": [
    "Next we check that we can communicate with the Sonata FPGA.\n",
    "\n",
    "**Uses SimpleSerial2 using scope's tio1/tio2 and Sonata's SER0_TX/SER0_RX (on P12 pins 2 and 4).**\n",
    "\n",
    "**If this fails, nothing else will work!**"
   ]
  },
  {
   "cell_type": "code",
   "execution_count": null,
   "id": "621b5406-cce8-4645-86d1-7dbb9235dee2",
   "metadata": {},
   "outputs": [],
   "source": [
    "target._ss2_test_echo()"
   ]
  },
  {
   "cell_type": "code",
   "execution_count": null,
   "id": "44f06a3b-360e-4de1-a258-5fbaf30d46cb",
   "metadata": {},
   "outputs": [],
   "source": [
    "# you should also see a build time that makes sense:\n",
    "target.fpga_buildtime"
   ]
  },
  {
   "cell_type": "markdown",
   "id": "e6cccdd6-2ec7-4a3c-ade7-e800b443e9e2",
   "metadata": {},
   "source": [
    "# LEDs and switches:"
   ]
  },
  {
   "cell_type": "code",
   "execution_count": null,
   "id": "61319a88-3743-4053-98db-c8257d371f25",
   "metadata": {},
   "outputs": [],
   "source": [
    "# make `CHERIERR2` blink:\n",
    "import time\n",
    "for i in range(10):\n",
    "    target.fpga_write(target.REG_USER_LED, [1])\n",
    "    time.sleep(0.2)\n",
    "    target.fpga_write(target.REG_USER_LED, [0])\n",
    "    time.sleep(0.2)"
   ]
  },
  {
   "cell_type": "code",
   "execution_count": null,
   "id": "bc4e2be5-7505-498b-a849-dd330681f01d",
   "metadata": {},
   "outputs": [],
   "source": [
    "# make all the LEDs blink:\n",
    "target.fpga_write(target.REG_LEDS, [0, 0, 0x60])"
   ]
  },
  {
   "cell_type": "code",
   "execution_count": null,
   "id": "9a0027b3-7995-4b96-b5d8-9c8626c81cdc",
   "metadata": {},
   "outputs": [],
   "source": [
    "# return LEDs to normal:\n",
    "target.fpga_write(target.REG_LEDS, [0, 0, 0])"
   ]
  },
  {
   "cell_type": "code",
   "execution_count": null,
   "id": "aedfae21-fa5b-433b-970c-a3ef1f073853",
   "metadata": {},
   "outputs": [],
   "source": [
    "# read status of input switches:\n",
    "raw = int.from_bytes(target.fpga_read(target.REG_DIPS, 2), byteorder='little')\n",
    "for i in range(0,16):\n",
    "    if i in range(0,3): label = 'SELSW%d' % i\n",
    "    elif i in range(3, 8): label = 'NAVSW%d' % (i-3)\n",
    "    elif i in range(8, 16): label = 'USRSW%d' % (i-8)\n",
    "    print(label, end=': ')\n",
    "    if raw & 2**i:\n",
    "        print('on')\n",
    "    else:\n",
    "        print('off')\n",
    "    \n",
    "    if i in [2, 7]:\n",
    "        print()"
   ]
  },
  {
   "cell_type": "markdown",
   "id": "bc1f342f-997d-44ac-abdf-5e7ecd5ff27a",
   "metadata": {},
   "source": [
    "This runs in an infinite loop, updating what's shown whenever a switch status changes:"
   ]
  },
  {
   "cell_type": "code",
   "execution_count": null,
   "id": "35999add-287a-4a96-8f59-01a46dcff4cf",
   "metadata": {
    "tags": []
   },
   "outputs": [],
   "source": [
    "from IPython.display import display, clear_output\n",
    "\n",
    "prev_raw = 0\n",
    "while True:\n",
    "    raw = int.from_bytes(target.fpga_read(target.REG_DIPS, 2), byteorder='little')\n",
    "    if raw != prev_raw:\n",
    "        prev_raw = raw\n",
    "        clear_output()\n",
    "        for i in range(0,16):\n",
    "            if i in range(0,3): label = 'SELSW%d: ' % i\n",
    "            elif i in range(3, 8): label = 'NAVSW%d: ' % (i-3)\n",
    "            elif i in range(8, 16): label = 'USRSW%d: ' % (i-8)\n",
    "        \n",
    "            if raw & 2**i:\n",
    "                label += 'on'\n",
    "            else:\n",
    "                label += 'off'\n",
    "            display(label)\n",
    "\n",
    "            if i in [2, 7]:\n",
    "                display('')\n"
   ]
  },
  {
   "cell_type": "markdown",
   "id": "a0b42378-dffb-4f86-a360-3802636d8d2f",
   "metadata": {},
   "source": [
    "# XADC:"
   ]
  },
  {
   "cell_type": "code",
   "execution_count": null,
   "id": "bb7386d6-9c1a-4225-8afb-154e45bfc870",
   "metadata": {},
   "outputs": [],
   "source": [
    "# connect XADC:\n",
    "from chipwhisperer.capture.scopes.cwhardware.ChipWhispererHuskyMisc import XADCSettings\n",
    "from chipwhisperer.common.utils import util\n",
    "\n",
    "CODE_READ       = 0x80\n",
    "CODE_WRITE      = 0xC0\n",
    "\n",
    "class fakeoa(object):\n",
    "    def __init__(self):\n",
    "        pass    \n",
    "    def sendMessage(self, mode, address, payload=None, Validate=False, maxResp=1, readMask=None):\n",
    "        if mode != CODE_WRITE:\n",
    "            return target.fpga_read(address, maxResp)\n",
    "        else:\n",
    "            target.fpga_write(address, payload)\n",
    "\n",
    "oa = fakeoa()\n",
    "xadc = XADCSettings(oa)\n",
    "xadc.drp.data = target.REG_XADC_DRP_DATA\n",
    "xadc.drp.addr = target.REG_XADC_DRP_ADDR\n",
    "xadc.drp.reset_address = None\n",
    "\n",
    "def xadc_status():\n",
    "    self = xadc\n",
    "    rtn = {}\n",
    "    rtn['current temperature [C]'] = '%.1f' % self.temp\n",
    "    rtn['maximum temperature [C]'] = '%.1f' % self.max_temp\n",
    "    rtn['user temperature alarm trigger [C]'] = '%.1f' % self.temp_trigger\n",
    "    rtn['user temperature reset trigger [C]'] = '%.1f' % self.temp_reset\n",
    "    rtn['device temperature alarm trigger [C]'] = '%.1f' % self.ot_temp_trigger\n",
    "    rtn['device temperature reset trigger [C]'] = '%.1f' % self.ot_temp_reset\n",
    "    rtn['vccint'] = '%.3f' % self.vccint\n",
    "    rtn['vccaux'] = '%.3f' % self.vccaux\n",
    "    rtn['vccbram'] = '%.3f' % self.vccbram\n",
    "    \n",
    "    rtn['max vccint'] = '%.3f' % self.get_vcc('vccint', 'max')\n",
    "    rtn['max vccaux'] = '%.3f' % self.get_vcc('vccaux', 'max')\n",
    "    rtn['max vccbram'] = '%.3f' % self.get_vcc('vccbram', 'max')\n",
    "\n",
    "    rtn['min vccint'] = '%.3f' % self.get_vcc('vccint', 'min')\n",
    "    rtn['min vccaux'] = '%.3f' % self.get_vcc('vccaux', 'min')\n",
    "    rtn['min vccbram'] = '%.3f' % self.get_vcc('vccbram', 'min')\n",
    "\n",
    "    print(util.dict_to_str(rtn))\n",
    "\n",
    "def xadc_clear_error():\n",
    "    target.fpga_write(target.REG_XADC_STAT, [0])"
   ]
  },
  {
   "cell_type": "markdown",
   "id": "979984fa-047e-43fb-aaae-268726d743c8",
   "metadata": {},
   "source": [
    "We can't print the `xadc` object because it's a Husky class with more things that we have here; individual temperature and voltage measurements can be accessed as usual, or used `xadc_status()` to print everything:"
   ]
  },
  {
   "cell_type": "code",
   "execution_count": null,
   "id": "80712bde-85c7-4131-8f28-4c4ba692890b",
   "metadata": {},
   "outputs": [],
   "source": [
    "xadc.temp, xadc.max_temp"
   ]
  },
  {
   "cell_type": "code",
   "execution_count": null,
   "id": "4b8787fa-6888-4ced-80c9-ff49b9521a0b",
   "metadata": {},
   "outputs": [],
   "source": [
    "xadc.vccint, xadc.vccaux, xadc.vccbram"
   ]
  },
  {
   "cell_type": "code",
   "execution_count": null,
   "id": "57d671f6-9a14-4598-bd39-e5befb0e9848",
   "metadata": {},
   "outputs": [],
   "source": [
    "xadc_status()"
   ]
  },
  {
   "cell_type": "markdown",
   "id": "447314bf-5e1b-4041-a6ab-ebbbaeee0666",
   "metadata": {},
   "source": [
    "If the temperature specified by the \"user temperature alarm trigger\" is exceeded, the programmable clock (which runs the AES engines and the hyperram controller) gets shut down in an effort to preserve the FPGA.\n",
    "\n",
    "This threshold can be controlled via the `xadc.temp_trigger` property.\n",
    "\n",
    "Regardless of this user-defined threshold, the \"device temperature alarm trigger\", which is an immutable build-time property (nominally 85C), also shuts down the clock.\n",
    "\n",
    "The clock is also shutdown if any of the VCC supplies exceed their recommended operating range (you can use the `xadc._get_vcc_limit()` and `xadc._set_vcc_limit()` methods to alter these).\n",
    "\n",
    "The clock used for the serial communication link is always kept alive, so it should (in theory!) be possible to recover from a clock shutdown without a reset.\n",
    "\n",
    "XADC errors are sticky; run `xadc_clear_error()` to un-stick them, which should re-enable the clock (if the error condition is no longer present)."
   ]
  },
  {
   "cell_type": "markdown",
   "id": "3c20229c-4018-4661-ada3-0386317d77a5",
   "metadata": {},
   "source": [
    "If you turn on the Sonata board's \"TURBO\" mode (pin 1 of SW6 to \"on\"), VCCINT and VCCBRAM will exceed their thresholds, so we need to increase those:"
   ]
  },
  {
   "cell_type": "code",
   "execution_count": null,
   "id": "39ec70d6-9add-4930-a986-8ddee4e21c5c",
   "metadata": {},
   "outputs": [],
   "source": [
    "xadc._set_vcc_limit(1.08, 'vccint', 'upper')\n",
    "xadc._set_vcc_limit(1.08, 'vccbram', 'upper')"
   ]
  },
  {
   "cell_type": "code",
   "execution_count": null,
   "id": "3f2435c1-853d-4bc3-a58c-163c79093906",
   "metadata": {},
   "outputs": [],
   "source": [
    "xadc_clear_error()"
   ]
  },
  {
   "cell_type": "markdown",
   "id": "ba2a4fef-741e-406d-a6a5-8054ff9115b5",
   "metadata": {},
   "source": [
    "## Reading ANALOGx (VAUX) signals:"
   ]
  },
  {
   "cell_type": "code",
   "execution_count": null,
   "id": "83e1fae1-1e66-456d-a3fa-9f874ce2e715",
   "metadata": {},
   "outputs": [],
   "source": [
    "def xadc_analog(i=0):\n",
    "    if   i == 0: j = 4\n",
    "    elif i == 1: j = 12\n",
    "    elif i == 2: j = 5\n",
    "    elif i == 3: j = 13\n",
    "    elif i == 4: j = 6\n",
    "    elif i == 5: j = 14\n",
    "    else: raise ValueError('Unsupported index')\n",
    "    addr = 0x10 + j\n",
    "    raw = xadc.drp.read(addr)\n",
    "    return (raw>>4)/4096 # ref: UG480"
   ]
  },
  {
   "cell_type": "code",
   "execution_count": null,
   "id": "cc2d2829-5418-48ff-8971-f936bf8c1c3f",
   "metadata": {},
   "outputs": [],
   "source": [
    "for i in range(6):\n",
    "    print('ANALOG%d: %f' % (i, xadc_analog(i)))"
   ]
  },
  {
   "cell_type": "markdown",
   "id": "feb66705-a745-4c87-a07f-22ddebf0b23b",
   "metadata": {},
   "source": [
    "## Reading the ANALOGx_DIGITAL signals:"
   ]
  },
  {
   "cell_type": "code",
   "execution_count": null,
   "id": "4ba61f2f-aab8-47ab-a8af-58e4bd5bf051",
   "metadata": {},
   "outputs": [],
   "source": [
    "raw = target.fpga_read(target.REG_ANALOG_DIGITAL, 1)[0]\n",
    "for i in range(0,6):\n",
    "    print('ANALOG%d_DIGITAL: ' % i, end='')\n",
    "    if raw & 2**i:\n",
    "        print('high')\n",
    "    else:\n",
    "        print('low')"
   ]
  },
  {
   "cell_type": "markdown",
   "id": "0466927c-9858-4461-b18b-2f7878b81b75",
   "metadata": {},
   "source": [
    "# Setting the programmable clocks:\n",
    "\n",
    "There are two programmable clocks: one is used by the AES cores, the other by the HyperRAM controller."
   ]
  },
  {
   "cell_type": "code",
   "execution_count": null,
   "id": "1f34dce7-b7f4-4e3f-8b46-7cd361e0ce71",
   "metadata": {},
   "outputs": [],
   "source": [
    "# Connect AES MMCM:\n",
    "from chipwhisperer.capture.scopes.cwhardware.ChipWhispererHuskyMisc import XilinxDRP, XilinxMMCMDRP\n",
    "aes_drp = XilinxDRP(oa, target.REG_MMCM_DRP_DATA, target.REG_MMCM_DRP_ADDR, target.REG_MMCM_DRP_RESET)\n",
    "aes_mmcm = XilinxMMCMDRP(aes_drp)"
   ]
  },
  {
   "cell_type": "markdown",
   "id": "6ba6141f-7642-44b3-baf7-00a619139fd8",
   "metadata": {},
   "source": [
    "The programmable clock can be controlled via its MMCM's divider and multiplier settings.\n",
    "\n",
    "The input clock is 25 MHz and legal VCO range is 800 - 1600 MHz:"
   ]
  },
  {
   "cell_type": "code",
   "execution_count": null,
   "id": "8212dad2-42bc-4423-b744-da548048674b",
   "metadata": {},
   "outputs": [],
   "source": [
    "aes_mmcm.get_main_div(), aes_mmcm.get_mul(), aes_mmcm.get_sec_div()"
   ]
  },
  {
   "cell_type": "markdown",
   "id": "ae0aeff4-4ad2-4f9b-9012-0d5167780eea",
   "metadata": {},
   "source": [
    "For example, this sets the AES clock to 25 * 50 / 11 = 113.6 MHz:"
   ]
  },
  {
   "cell_type": "code",
   "execution_count": null,
   "id": "796a00e8-02d8-438d-a9f0-b81463de0684",
   "metadata": {},
   "outputs": [],
   "source": [
    "aes_mmcm.set_mul(50)\n",
    "aes_mmcm.set_sec_div(11)"
   ]
  },
  {
   "cell_type": "markdown",
   "id": "62746768-f85f-43c3-9baf-43c639f10128",
   "metadata": {},
   "source": [
    "**Be careful with these settings as it is possible to set the clock so high that it could overheat and even damage the FPGA!**"
   ]
  },
  {
   "cell_type": "code",
   "execution_count": null,
   "id": "eac6b1c1-17b1-4b10-aafc-3d3a1554a4d2",
   "metadata": {},
   "outputs": [],
   "source": [
    "# Connect HyperRAM MMCM:\n",
    "hr_drp = XilinxDRP(oa, target.REG_MMCM_HR_DRP_DATA, target.REG_MMCM_HR_DRP_ADDR, target.REG_MMCM_HR_DRP_RESET)\n",
    "hr_mmcm = XilinxMMCMDRP(hr_drp)"
   ]
  },
  {
   "cell_type": "code",
   "execution_count": null,
   "id": "ab8bd262-2c56-4f29-89a6-7690f53fbac1",
   "metadata": {},
   "outputs": [],
   "source": [
    "hr_mmcm.get_main_div(), hr_mmcm.get_mul(), hr_mmcm.get_sec_div()"
   ]
  },
  {
   "cell_type": "markdown",
   "id": "0e791cd2-a871-4e07-90bc-2ca32a9dc64c",
   "metadata": {},
   "source": [
    "Convenience function to report current clock frequencies:"
   ]
  },
  {
   "cell_type": "code",
   "execution_count": null,
   "id": "be3e5634-a359-454b-b488-63c50e2ccddb",
   "metadata": {},
   "outputs": [],
   "source": [
    "def report_clocks():\n",
    "    BASE_FREQ = 25\n",
    "    secdiv = hr_mmcm.get_sec_div()\n",
    "    maindiv = hr_mmcm.get_main_div()\n",
    "    mul = hr_mmcm.get_mul()\n",
    "    hr = BASE_FREQ * mul / secdiv / maindiv\n",
    "\n",
    "    secdiv = aes_mmcm.get_sec_div()\n",
    "    maindiv = aes_mmcm.get_main_div()\n",
    "    mul = aes_mmcm.get_mul()\n",
    "    axi = BASE_FREQ * mul / secdiv / maindiv\n",
    "    \n",
    "    print('HyperRAM clock: %4.1f MHz' % hr)\n",
    "    print('AXI/AES  clock: %4.1f MHz' % axi)"
   ]
  },
  {
   "cell_type": "code",
   "execution_count": null,
   "id": "ce7d4e99-6728-4ef5-a84e-24671fea01ac",
   "metadata": {},
   "outputs": [],
   "source": [
    "report_clocks()"
   ]
  },
  {
   "cell_type": "markdown",
   "id": "74a1407e-221f-484b-a8ce-94b6ad68fb86",
   "metadata": {},
   "source": [
    "# Running AES:"
   ]
  },
  {
   "cell_type": "code",
   "execution_count": null,
   "id": "ed97341f-d986-469b-a287-6902a7105205",
   "metadata": {},
   "outputs": [],
   "source": [
    "# run AES:\n",
    "# there are *ten* AES cores; each bit turns on/off the corresponding core:\n",
    "CORES = 0b1111111111\n",
    "target.fpga_write(target.REG_AES_CORES_EN, int.to_bytes(CORES, length=8, byteorder='little'))\n",
    "\n",
    "# write some key and PT:\n",
    "target.fpga_write(target.REG_CRYPT_KEY, range(16))\n",
    "target.fpga_write(target.REG_CRYPT_TEXTIN, range(16))\n",
    "target.fpga_write(target.REG_CRYPT_GO, [1])\n",
    "\n",
    "# read result:\n",
    "print(list(target.fpga_read(target.REG_CRYPT_CIPHEROUT, 16)))"
   ]
  },
  {
   "cell_type": "markdown",
   "id": "e14e15fd-9ca0-4472-98fd-f3215639a922",
   "metadata": {},
   "source": [
    "To stress the board power supply and heat dissipation, run this to make it encrypt non-stop. **Keep an eye out on the XADC temperature!**"
   ]
  },
  {
   "cell_type": "code",
   "execution_count": null,
   "id": "aaf9c0d9-938e-4697-a74c-8076154852d4",
   "metadata": {},
   "outputs": [],
   "source": [
    "# xadc.temp_trigger = 75 # optionally reduce the temp at which we shut things down"
   ]
  },
  {
   "cell_type": "code",
   "execution_count": null,
   "id": "533a9efd-0cd1-4b47-b45c-2427e652a36e",
   "metadata": {},
   "outputs": [],
   "source": [
    "# make it encrypt non-stop:\n",
    "target.fpga_write(target.REG_AES_ALWAYS_ON, [1])"
   ]
  },
  {
   "cell_type": "code",
   "execution_count": null,
   "id": "1dfdb178-42e0-47ff-8d09-e8c2076e6101",
   "metadata": {},
   "outputs": [],
   "source": [
    "# and stop:\n",
    "target.fpga_write(target.REG_AES_ALWAYS_ON, [0])"
   ]
  },
  {
   "cell_type": "code",
   "execution_count": null,
   "id": "37094c6e-7087-4e23-ad14-a495190eea48",
   "metadata": {},
   "outputs": [],
   "source": [
    "xadc_status()"
   ]
  },
  {
   "cell_type": "markdown",
   "id": "101911e1-73b7-4ba6-929b-a6bf6e10c950",
   "metadata": {},
   "source": [
    "If a bunch of LEDs light up and 2 of the 3 heartbeats stop, it's likely that an XADC alarm has occurred and stopped the clocks.\n",
    "\n",
    "If it was due to high temperature, stop the AES test and/or reduce its clock, then clear the error condition; if it was due to a transient out-of-spec voltage, clearing the error condition should suffice:"
   ]
  },
  {
   "cell_type": "code",
   "execution_count": null,
   "id": "11a37244-7e1d-49e6-b114-7050e7c7665b",
   "metadata": {},
   "outputs": [],
   "source": [
    "xadc_clear_error()"
   ]
  },
  {
   "cell_type": "markdown",
   "id": "2faabb3b-bd85-4577-a259-24096542748f",
   "metadata": {},
   "source": [
    "# Hyperram test:\n",
    "\n",
    "Note this is now using the OpenHBMC HyperRAM controller. "
   ]
  },
  {
   "cell_type": "code",
   "execution_count": null,
   "id": "ee2626cf-bcf2-43f8-b1bf-c2e3420d8262",
   "metadata": {},
   "outputs": [],
   "source": [
    "from tqdm.notebook import tqdm\n",
    "import time\n",
    "\n",
    "def auto_hyperram_off():\n",
    "    target.fpga_write(target.REG_LB_MANUAL, [3]) # turn off auto test and clear fail\n",
    "\n",
    "def reset_hyperram():\n",
    "    target.fpga_write(target.REG_HYPER_RESET, [1])\n",
    "    target.fpga_write(target.REG_HYPER_RESET, [0])\n",
    "\n",
    "def check_clocks():\n",
    "    raw = target.fpga_read(target.REG_CLKSETTINGS, 1)[0]\n",
    "    if not raw & 1:\n",
    "        raise ValueError('AXI/AES clock is unlocked!')\n",
    "    if not raw & 2:\n",
    "        raise ValueError('HyperRAM clock is unlocked!')\n",
    "\n",
    "    raw = target.fpga_read(target.REG_HYPER_STATUS, 1)[0]\n",
    "    if not raw & 1:\n",
    "        raise ValueError('HyperRAM 90 degree shifted clock is unlocked!')\n",
    "    if not raw & 32:\n",
    "        raise ValueError('HyperRAM SERDES clock is unlocked!')\n",
    "        \n",
    "def auto_hyperram_test(start=0, stop=8*1024*1024-4, verbose=True):\n",
    "    if start % 4 or stop % 4:\n",
    "        raise ValueError('Start and stop addresses need to be a multiple of 4.')\n",
    "    check_clocks()\n",
    "    target.fpga_write(target.REG_LB_START_ADDR, int.to_bytes(start, length=4, byteorder='little'))\n",
    "    target.fpga_write(target.REG_LB_STOP_ADDR, int.to_bytes(stop,  length=4, byteorder='little'))\n",
    "    target.fpga_write(target.REG_LB_MANUAL, [3]) # turn off auto test and clear fail\n",
    "    config = 4 # set LFSR mode\n",
    "    target.fpga_write(target.REG_LB_MANUAL, [config]) # turn on test\n",
    "    if verbose: wpbar = tqdm(total=stop, desc='writes')\n",
    "    prevaddr = 0\n",
    "    addr = 0\n",
    "    while addr < stop:\n",
    "        addr = int.from_bytes(target.fpga_read(target.REG_LB_CURRENT_ADDR, 4), byteorder='little') # current address being read/written\n",
    "        if addr < prevaddr:\n",
    "            break\n",
    "        if verbose: wpbar.update(addr - prevaddr)\n",
    "        prevaddr = addr\n",
    "        time.sleep(0.1)\n",
    "        resp_err = target.fpga_read(target.REG_HYPER_STATUS, 1)[0] & 6\n",
    "        if resp_err:\n",
    "            raise ValueError(\"HyperRAM controller got an AXI RESP error! Reset may be required.\")\n",
    "    if verbose: wpbar.close()\n",
    "    \n",
    "    if verbose: rpbar = tqdm(total=stop, desc='reads')\n",
    "    prevaddr = 0\n",
    "    addr = 0\n",
    "    while addr < stop:\n",
    "        addr = int.from_bytes(target.fpga_read(target.REG_LB_CURRENT_ADDR, 4), byteorder='little') # current address being read/written\n",
    "        if addr < prevaddr:\n",
    "            break\n",
    "        if verbose: rpbar.update(addr - prevaddr)\n",
    "        prevaddr = addr\n",
    "        time.sleep(0.1)\n",
    "        resp_err = target.fpga_read(target.REG_HYPER_STATUS, 1)[0] & 6\n",
    "        if resp_err:\n",
    "            raise ValueError(\"HyperRAM controller got an AXI RESP error! Reset may be required.\")\n",
    "\n",
    "    total_errors = int.from_bytes(target.fpga_read(target.REG_LB_ERRORS, 4), byteorder='little')\n",
    "    if verbose: rpbar.close()\n",
    "    \n",
    "    status = target.fpga_read(target.REG_HYPER_STATUS, 1)[0]\n",
    "\n",
    "    if status & 16:\n",
    "        if verbose: print('Test passed')\n",
    "    else:\n",
    "        print('Test FAILED; %d errors' % total_errors)\n",
    "        print('Percentage of good reads: %3.2f%%' % ((1-(total_errors/((stop-start)/4)))*100))\n",
    "\n",
    "def auto_last_address():\n",
    "    return int.from_bytes(target.fpga_read(target.REG_LB_CURRENT_ADDR, 4), byteorder='little')\n",
    "\n",
    "def auto_test_errors():\n",
    "    return int.from_bytes(target.fpga_read(target.REG_LB_ERRORS, 4), byteorder='little')\n",
    "\n",
    "def auto_hyperram_long(start=0, stop=8*1024*1024-4, iterations = 1000):\n",
    "    check_clocks()\n",
    "    target.fpga_write(target.REG_LB_START_ADDR, int.to_bytes(start, length=4, byteorder='little'))\n",
    "    target.fpga_write(target.REG_LB_STOP_ADDR, int.to_bytes(stop,  length=4, byteorder='little')) # note AXI uses byte addressing!\n",
    "    target.fpga_write(target.REG_LB_MANUAL, [3]) # turn off auto test and clear fail\n",
    "    config = 4 # set LFSR mode\n",
    "    target.fpga_write(target.REG_LB_MANUAL, [config]) # turn on test\n",
    "    pbar = tqdm(total=iterations, desc='iterations')\n",
    "    ebar = tqdm(total=1000, desc='errors')\n",
    "    prev_iteration = 0\n",
    "    current_iteration = 0\n",
    "\n",
    "    prev_errors = 0\n",
    "    current_errors = 0\n",
    "\n",
    "    while current_iteration < iterations:\n",
    "        current_iteration = int.from_bytes(target.fpga_read(target.REG_LB_ITERATIONS, 2), byteorder='little')\n",
    "        pbar.update(current_iteration - prev_iteration)\n",
    "        prev_iteration = current_iteration\n",
    "\n",
    "        current_errors = int.from_bytes(target.fpga_read(target.REG_LB_ERRORS, 4), byteorder='little')\n",
    "        ebar.update(current_errors - prev_errors)\n",
    "        prev_errors = current_errors\n",
    "\n",
    "        time.sleep(0.01)\n",
    "        resp_err = target.fpga_read(target.REG_HYPER_STATUS, 1)[0] & 6\n",
    "        if resp_err:\n",
    "            raise ValueError(\"HyperRAM controller got an AXI RESP error! Reset may be required.\")\n",
    "    pbar.close()\n",
    "    ebar.close()\n",
    "\n",
    "    status = target.fpga_read(target.REG_HYPER_STATUS, 1)[0]\n",
    "\n",
    "    if status & 16:\n",
    "        print('Test passed')\n",
    "    else:\n",
    "        print('Test FAILED; %d errors' % current_errors)\n",
    "        print('Percentage of good reads: %3.2f%%' % ((1-(current_errors/((stop-start)*iterations)))*100))\n",
    "\n"
   ]
  },
  {
   "cell_type": "markdown",
   "id": "31bc2dc2-e823-43cc-953b-7aefd78ec65c",
   "metadata": {},
   "source": [
    "Automated check over the full memory space (single iteration):"
   ]
  },
  {
   "cell_type": "code",
   "execution_count": null,
   "id": "83289bf1-0d16-4273-83c7-e4d49e661e0c",
   "metadata": {},
   "outputs": [],
   "source": [
    "reset_hyperram()"
   ]
  },
  {
   "cell_type": "code",
   "execution_count": null,
   "id": "d7dad28f-f8b6-4fd7-89fd-bc6b37514c15",
   "metadata": {},
   "outputs": [],
   "source": [
    "auto_hyperram_test()"
   ]
  },
  {
   "cell_type": "markdown",
   "id": "6d3ac05a-52ed-480b-8bb0-904e452a452f",
   "metadata": {},
   "source": [
    "The test keeps running after the single iteration is done:"
   ]
  },
  {
   "cell_type": "code",
   "execution_count": null,
   "id": "17a191bc-44be-44b0-8881-29304bbb4ac4",
   "metadata": {},
   "outputs": [],
   "source": [
    "print('Last read or write address (if stuck): %d' % auto_last_address())\n",
    "print('Numer of errors: %d' % auto_test_errors())\n",
    "print('Number of iterations: %d' % int.from_bytes(target.fpga_read(target.REG_LB_ITERATIONS, 2), byteorder='little'))"
   ]
  },
  {
   "cell_type": "markdown",
   "id": "02f9b78a-0de5-4d1a-8ead-2c6dcf7d7802",
   "metadata": {},
   "source": [
    "To manually stop the test:"
   ]
  },
  {
   "cell_type": "code",
   "execution_count": null,
   "id": "206b6224-4d94-40c2-8dfd-cc80f1fcc53e",
   "metadata": {},
   "outputs": [],
   "source": [
    "auto_hyperram_off()"
   ]
  },
  {
   "cell_type": "markdown",
   "id": "0f14e573-fabf-45ea-ac1c-c1a75abc3644",
   "metadata": {},
   "source": [
    "Report clock frequencies:"
   ]
  },
  {
   "cell_type": "code",
   "execution_count": null,
   "id": "a2c3392b-1bd6-4712-87fa-5194977c0a94",
   "metadata": {},
   "outputs": [],
   "source": [
    "report_clocks()"
   ]
  },
  {
   "cell_type": "markdown",
   "id": "7bae2bfb-e69e-48f2-b5c9-a321cdb16268",
   "metadata": {},
   "source": [
    "To change the clocks, set the multiplier and dividers as desired (use with care!):"
   ]
  },
  {
   "cell_type": "code",
   "execution_count": null,
   "id": "3c3f7882-da71-4aff-bcb5-01a325b4a463",
   "metadata": {},
   "outputs": [],
   "source": [
    "if False:\n",
    "    # 170 MHz HyperRAM clock:\n",
    "    hr_mmcm.set_mul(48)\n",
    "    hr_mmcm.set_sec_div(7)\n",
    "\n",
    "    # 150 MHz HyperRAM clock:\n",
    "    hr_mmcm.set_mul(48)\n",
    "    hr_mmcm.set_sec_div(8)\n",
    "\n",
    "    # 100 MHz AXI clock:\n",
    "    hr_mmcm.set_mul(48)\n",
    "    hr_mmcm.set_sec_div(12)\n",
    "\n",
    "    # 50 MHz AXI clock:\n",
    "    hr_mmcm.set_mul(48)\n",
    "    hr_mmcm.set_sec_div(24)"
   ]
  },
  {
   "cell_type": "markdown",
   "id": "bcedc737-6cb0-4920-9c4b-87ffdb488c41",
   "metadata": {},
   "source": [
    "Overclocking the HyperRAM clock up to 196 MHz should work if you turn on the board's \"TURBO\" mode:"
   ]
  },
  {
   "cell_type": "code",
   "execution_count": null,
   "id": "a309bcd7-44d8-40a4-a641-16e6e66085bd",
   "metadata": {},
   "outputs": [],
   "source": [
    "if False:\n",
    "    hr_mmcm.set_mul(55)\n",
    "    hr_mmcm.set_sec_div(7)"
   ]
  },
  {
   "cell_type": "markdown",
   "id": "de909478-f380-46d6-b493-e98f44f982af",
   "metadata": {},
   "source": [
    "Whenever the HyperRAM clock rate is changed, you should re-run the `reset_hyperram()` command:"
   ]
  },
  {
   "cell_type": "code",
   "execution_count": null,
   "id": "233181af-a2f1-4e97-b671-fba4df20f3eb",
   "metadata": {},
   "outputs": [],
   "source": [
    "reset_hyperram()"
   ]
  },
  {
   "cell_type": "code",
   "execution_count": null,
   "id": "499c4cc0-6f25-4a28-8f48-23d3a9b9d958",
   "metadata": {},
   "outputs": [],
   "source": [
    "# can also limit the address range (e.g. for debugging); start and stop are byte addresses, so this will test addresses 0, 4, 8 and 12: \n",
    "auto_hyperram_test(start=0, stop=12)"
   ]
  },
  {
   "cell_type": "markdown",
   "id": "b8a26d1e-fbe2-48a4-a9dc-83df2c6dab3f",
   "metadata": {},
   "source": [
    "Stress test by running multiple iterations over the full memory space (takes roughly 1 second per iteration):"
   ]
  },
  {
   "cell_type": "code",
   "execution_count": null,
   "id": "4f9ee07c-7d89-4b1d-8964-cb503d6ed73a",
   "metadata": {},
   "outputs": [],
   "source": [
    "auto_hyperram_long(iterations=10)"
   ]
  },
  {
   "cell_type": "markdown",
   "id": "e079bdf7-ab1c-4e6c-9062-18153bb00bb9",
   "metadata": {},
   "source": [
    "Reset stress test: check that HyperRAM always works after a reset:"
   ]
  },
  {
   "cell_type": "code",
   "execution_count": null,
   "id": "5725e15e-4f9d-4d87-8198-4710d764aa42",
   "metadata": {},
   "outputs": [],
   "source": [
    "ITERATIONS = 100\n",
    "from tqdm.notebook import tnrange\n",
    "for i in tnrange(ITERATIONS):\n",
    "    auto_hyperram_test(verbose=False)"
   ]
  },
  {
   "cell_type": "markdown",
   "id": "de43a197-c6a3-4a94-a822-dab68f47d009",
   "metadata": {},
   "source": [
    "Python-driven memory test -- much slower; can be useful to diagnose issues.\n",
    "\n",
    "Unlike the automated test this does not validate the full memory (it would take a few days with this approach!), however it does fully exercise the interface of the memory (with the default settings used below)."
   ]
  },
  {
   "cell_type": "code",
   "execution_count": null,
   "id": "cb583afe-9625-4649-b892-251659de265f",
   "metadata": {},
   "outputs": [],
   "source": [
    "def hbmc_write(address=0, wdata=0x11223344):\n",
    "    check_clocks()\n",
    "    target.fpga_write(target.REG_LB_MANUAL, [3]) # turn off auto test just in case\n",
    "    target.fpga_write(target.REG_LB_START_ADDR, int.to_bytes(address, length=4, byteorder='little'))\n",
    "    target.fpga_write(target.REG_HBMC_SINGLE_DATA, int.to_bytes(wdata, length=4, byteorder='little'))\n",
    "    target.fpga_write(target.REG_HBMC_ACTION, [1])\n",
    "    target.fpga_write(target.REG_HBMC_ACTION, [0])\n",
    "    if not target.fpga_read(target.REG_HBMC_ACTION, 1)[0]:\n",
    "        raise ValueError('HyperRAM controller is stuck!')\n",
    "    return\n",
    "    \n",
    "def hbmc_read(address=0):\n",
    "    check_clocks()\n",
    "    target.fpga_write(target.REG_LB_MANUAL, [3]) # turn off auto test just in case\n",
    "    target.fpga_write(target.REG_LB_START_ADDR, int.to_bytes(address, length=4, byteorder='little'))\n",
    "    target.fpga_write(target.REG_HBMC_ACTION, [2])\n",
    "    target.fpga_write(target.REG_HBMC_ACTION, [0])\n",
    "    if not target.fpga_read(target.REG_HBMC_ACTION, 1)[0]:\n",
    "        raise ValueError('HyperRAM controller is stuck!')\n",
    "    return int.from_bytes(target.fpga_read(target.REG_HBMC_SINGLE_DATA, 4), byteorder='little')\n"
   ]
  },
  {
   "cell_type": "code",
   "execution_count": null,
   "id": "cd0885dd-35fd-4f84-9ce2-de8623021571",
   "metadata": {},
   "outputs": [],
   "source": [
    "hbmc_write(wdata=0xffffffff)"
   ]
  },
  {
   "cell_type": "code",
   "execution_count": null,
   "id": "f101b489-c38f-4861-9530-391f5990cfc2",
   "metadata": {},
   "outputs": [],
   "source": [
    "hex(hbmc_read())"
   ]
  },
  {
   "cell_type": "code",
   "execution_count": null,
   "id": "ade32b75-20a0-4dc0-8b15-44a90f48106f",
   "metadata": {},
   "outputs": [],
   "source": [
    "WORDS = 32\n",
    "#WORDS = 1024\n",
    "\n",
    "# start address for the test (divide what auto_last_address() reports by 2):\n",
    "START = 0\n",
    "#START = 233000//2"
   ]
  },
  {
   "cell_type": "code",
   "execution_count": null,
   "id": "983d446d-0e36-4bba-a1ed-d6a8d6f5c2cd",
   "metadata": {},
   "outputs": [],
   "source": [
    "import random\n",
    "from tqdm.notebook import tnrange\n",
    "\n",
    "target.fpga_write(target.REG_LB_MANUAL, [3]) # turn off auto test and clear fail\n",
    "\n",
    "wdata = []\n",
    "errors = 0\n",
    "goods = 0\n",
    "for i in tnrange(START, START+WORDS, desc='Writing'):\n",
    "    data = random.randint(0, 2**32-1)\n",
    "    hbmc_write(i*4, data)\n",
    "    wdata.append(data)\n",
    "    busy_stuck = target.fpga_read(0x83, 1)[0] & 6\n",
    "    not_idle = not target.fpga_read(target.REG_HBMC_ACTION, 1)[0]\n",
    "    if busy_stuck or not_idle:\n",
    "        raise ValueError(\"Hyperram controller appears to be stuck on address %08x! Run reset_hyperram() to reset it before trying again.\" % (i*4))\n",
    "\n",
    "\n",
    "for i in tnrange(START, START+WORDS, desc='Reading'):\n",
    "    rdata = hbmc_read(i*4)\n",
    "    busy_stuck = target.fpga_read(0x83, 1)[0] & 6\n",
    "    not_idle = not target.fpga_read(target.REG_HBMC_ACTION, 1)[0]\n",
    "    if busy_stuck or not_idle:\n",
    "        raise ValueError(\"Hyperram controller appears to be stuck on address %08x! Re-run the reset_hyperram() and set_config() cells to reset it before trying again.\" % (i*2))\n",
    "    if rdata != wdata[i]:\n",
    "        errors += 1\n",
    "        if errors < 10:\n",
    "            print('i=%3d: got %08x, expected %08x, diff %08x, bits wrong: %3d' % (i, rdata, wdata[i], rdata ^ wdata[i], bin(rdata ^ wdata[i]).count('1')))\n",
    "        else:\n",
    "            goods += 1\n",
    "    else:\n",
    "        if goods == 0:\n",
    "            print('Good read for i=%3d' % i)\n",
    "        goods += 1\n",
    "\n",
    "print('Percentage of good reads: %d%%' % (goods/(errors+goods)*100))\n",
    "assert errors == 0, '%d errors!' % errors"
   ]
  },
  {
   "cell_type": "code",
   "execution_count": null,
   "id": "ae39f0c4-4f79-40d7-b9bd-6a2be02af1a1",
   "metadata": {},
   "outputs": [],
   "source": []
  },
  {
   "cell_type": "code",
   "execution_count": null,
   "id": "cfb1fbf6-fa7e-40fd-bd69-cfbd5c09668a",
   "metadata": {},
   "outputs": [],
   "source": []
  }
 ],
 "metadata": {
  "kernelspec": {
   "display_name": "Python 3 (ipykernel)",
   "language": "python",
   "name": "python3"
  },
  "language_info": {
   "codemirror_mode": {
    "name": "ipython",
    "version": 3
   },
   "file_extension": ".py",
   "mimetype": "text/x-python",
   "name": "python",
   "nbconvert_exporter": "python",
   "pygments_lexer": "ipython3",
   "version": "3.9.7"
  }
 },
 "nbformat": 4,
 "nbformat_minor": 5
}
