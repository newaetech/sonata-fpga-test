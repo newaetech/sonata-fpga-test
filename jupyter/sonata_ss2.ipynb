{
 "cells": [
  {
   "cell_type": "code",
   "execution_count": null,
   "id": "ffe9eefa-ef59-456b-9066-81902a4b8078",
   "metadata": {},
   "outputs": [],
   "source": [
    "import chipwhisperer as cw\n",
    "scope = cw.scope()\n",
    "scope.default_setup()"
   ]
  },
  {
   "cell_type": "markdown",
   "id": "a8a7c3a2-5510-41ce-af12-b9be4a35b790",
   "metadata": {},
   "source": [
    "Program bitfile using platform cable or other means!\n",
    "\n",
    "Note for this to work, CW305.py requires an edit to block programming, in `_con()`, under the `if 'ss2' in self.platform:` block: comment out the `self.fpga.program` calls:\n",
    "```python\n",
    "            #if self.platform == 'ss2_ice40':\n",
    "            #    self.fpga.erase_and_init()\n",
    "            #    self.fpga.program(bsfile, sck_speed=prog_speed, start=True, use_fast_usb=False)\n",
    "            #else:\n",
    "            #    self.fpga.program(bsfile, sck_speed=prog_speed)\n",
    "```\n",
    "\n",
    "and also this:\n",
    "```python\n",
    "#self.fpga = CW312T_XC7A35T(scope)\n",
    "```"
   ]
  },
  {
   "cell_type": "code",
   "execution_count": null,
   "id": "3a8ce8d2-dae5-42c1-ab16-22552606fad1",
   "metadata": {},
   "outputs": [],
   "source": [
    "# Connect to target (but don't program it):\n",
    "# warning about right number of defines is safe to ignore:\n",
    "target = cw.target(scope, cw.targets.CW305, force=False, bsfile='', platform='ss2_a35', defines_files=['../fpga/hdl/sonata_defines.v'])"
   ]
  },
  {
   "cell_type": "markdown",
   "id": "d981ff08-79e0-4738-8470-ad2960ff3495",
   "metadata": {},
   "source": [
    "Diagnostic LEDs: by default, LEDs show the following:\n",
    "- `USRLED0`: main clock heartbeat (25 MHz, MAINCLK on schematic)\n",
    "- `USRLED1`: programmable clock heartbeat (MAINCLK multiplied by 4 (default) by FPGA PLL)\n",
    "- `USRLED2`: settable via register write to `target.REG_USER_LED`\n",
    "- `USRLED3`: hyperram controller stuck\n",
    "- `USRLED4`: hyperram controller 90 degree shifted clock is unlocked\n",
    "- `USRLED5`: reset\n",
    "- `USRLED6`: programmable clock MMCM is locked\n",
    "- `USRLED7`: ss2 error\n",
    "- `CHERIERR0`: XADC error (temp/voltage out of spec)\n",
    "- all other LEDs off"
   ]
  },
  {
   "cell_type": "markdown",
   "id": "afe1734b-b37c-49d9-b56c-e50cf9255f26",
   "metadata": {},
   "source": [
    "Next we check that we can communicate with the Sonata FPGA.\n",
    "\n",
    "**Uses SimpleSerial2 using scope's tio1/tio2 and Sonata's SER0_TX/SER0_RX (on P12 pins 2 and 4).**\n",
    "\n",
    "**If this fails, nothing else will work!**"
   ]
  },
  {
   "cell_type": "code",
   "execution_count": null,
   "id": "621b5406-cce8-4645-86d1-7dbb9235dee2",
   "metadata": {},
   "outputs": [],
   "source": [
    "target._ss2_test_echo()"
   ]
  },
  {
   "cell_type": "code",
   "execution_count": null,
   "id": "44f06a3b-360e-4de1-a258-5fbaf30d46cb",
   "metadata": {},
   "outputs": [],
   "source": [
    "# you should also see a build time that makes sense:\n",
    "target.fpga_buildtime"
   ]
  },
  {
   "cell_type": "markdown",
   "id": "e6cccdd6-2ec7-4a3c-ade7-e800b443e9e2",
   "metadata": {},
   "source": [
    "# LEDs and switches:"
   ]
  },
  {
   "cell_type": "code",
   "execution_count": null,
   "id": "61319a88-3743-4053-98db-c8257d371f25",
   "metadata": {},
   "outputs": [],
   "source": [
    "# make `USERLED2` blink:\n",
    "import time\n",
    "for i in range(10):\n",
    "    target.fpga_write(target.REG_USER_LED, [1])\n",
    "    time.sleep(0.2)\n",
    "    target.fpga_write(target.REG_USER_LED, [0])\n",
    "    time.sleep(0.2)"
   ]
  },
  {
   "cell_type": "code",
   "execution_count": null,
   "id": "bc4e2be5-7505-498b-a849-dd330681f01d",
   "metadata": {},
   "outputs": [],
   "source": [
    "# make all the LEDs blink:\n",
    "target.fpga_write(target.REG_LEDS, [0, 0, 0x60])"
   ]
  },
  {
   "cell_type": "code",
   "execution_count": null,
   "id": "9a0027b3-7995-4b96-b5d8-9c8626c81cdc",
   "metadata": {},
   "outputs": [],
   "source": [
    "# return LEDs to normal:\n",
    "target.fpga_write(target.REG_LEDS, [0, 0, 0])"
   ]
  },
  {
   "cell_type": "code",
   "execution_count": null,
   "id": "aedfae21-fa5b-433b-970c-a3ef1f073853",
   "metadata": {},
   "outputs": [],
   "source": [
    "# read status of input switches:\n",
    "raw = int.from_bytes(target.fpga_read(target.REG_DIPS, 2), byteorder='little')\n",
    "for i in range(0,16):\n",
    "    if i in range(0,3): label = 'SELSW%d' % i\n",
    "    elif i in range(3, 8): label = 'NAVSW%d' % (i-3)\n",
    "    elif i in range(8, 16): label = 'USRSW%d' % (i-8)\n",
    "    print(label, end=': ')\n",
    "    if raw & 2**i:\n",
    "        print('on')\n",
    "    else:\n",
    "        print('off')\n",
    "    \n",
    "    if i in [2, 7]:\n",
    "        print()"
   ]
  },
  {
   "cell_type": "markdown",
   "id": "bc1f342f-997d-44ac-abdf-5e7ecd5ff27a",
   "metadata": {},
   "source": [
    "This runs in an infinite loop, updating what's shown whenever a switch status changes:"
   ]
  },
  {
   "cell_type": "code",
   "execution_count": null,
   "id": "35999add-287a-4a96-8f59-01a46dcff4cf",
   "metadata": {
    "tags": []
   },
   "outputs": [],
   "source": [
    "from IPython.display import display, clear_output\n",
    "\n",
    "prev_raw = 0\n",
    "while True:\n",
    "    raw = int.from_bytes(target.fpga_read(target.REG_DIPS, 2), byteorder='little')\n",
    "    if raw != prev_raw:\n",
    "        prev_raw = raw\n",
    "        clear_output()\n",
    "        for i in range(0,16):\n",
    "            if i in range(0,3): label = 'SELSW%d: ' % i\n",
    "            elif i in range(3, 8): label = 'NAVSW%d: ' % (i-3)\n",
    "            elif i in range(8, 16): label = 'USRSW%d: ' % (i-8)\n",
    "        \n",
    "            if raw & 2**i:\n",
    "                label += 'on'\n",
    "            else:\n",
    "                label += 'off'\n",
    "            display(label)\n",
    "\n",
    "            if i in [2, 7]:\n",
    "                display('')\n"
   ]
  },
  {
   "cell_type": "markdown",
   "id": "a0b42378-dffb-4f86-a360-3802636d8d2f",
   "metadata": {},
   "source": [
    "# XADC:"
   ]
  },
  {
   "cell_type": "code",
   "execution_count": null,
   "id": "bb7386d6-9c1a-4225-8afb-154e45bfc870",
   "metadata": {},
   "outputs": [],
   "source": [
    "# connect XADC:\n",
    "from chipwhisperer.capture.scopes.cwhardware.ChipWhispererHuskyMisc import XADCSettings\n",
    "from chipwhisperer.common.utils import util\n",
    "\n",
    "CODE_READ       = 0x80\n",
    "CODE_WRITE      = 0xC0\n",
    "\n",
    "class fakeoa(object):\n",
    "    def __init__(self):\n",
    "        pass    \n",
    "    def sendMessage(self, mode, address, payload=None, Validate=False, maxResp=1, readMask=None):\n",
    "        if mode != CODE_WRITE:\n",
    "            return target.fpga_read(address, maxResp)\n",
    "        else:\n",
    "            target.fpga_write(address, payload)\n",
    "\n",
    "oa = fakeoa()\n",
    "xadc = XADCSettings(oa)\n",
    "xadc.drp.data = target.REG_XADC_DRP_DATA\n",
    "xadc.drp.addr = target.REG_XADC_DRP_ADDR\n",
    "xadc.drp.reset_address = None\n",
    "\n",
    "def xadc_status():\n",
    "    self = xadc\n",
    "    rtn = {}\n",
    "    rtn['current temperature [C]'] = '%.1f' % self.temp\n",
    "    rtn['maximum temperature [C]'] = '%.1f' % self.max_temp\n",
    "    rtn['user temperature alarm trigger [C]'] = '%.1f' % self.temp_trigger\n",
    "    rtn['user temperature reset trigger [C]'] = '%.1f' % self.temp_reset\n",
    "    rtn['device temperature alarm trigger [C]'] = '%.1f' % self.ot_temp_trigger\n",
    "    rtn['device temperature reset trigger [C]'] = '%.1f' % self.ot_temp_reset\n",
    "    rtn['vccint'] = '%.3f' % self.vccint\n",
    "    rtn['vccaux'] = '%.3f' % self.vccaux\n",
    "    rtn['vccbram'] = '%.3f' % self.vccbram\n",
    "    \n",
    "    rtn['max vccint'] = '%.3f' % self.get_vcc('vccint', 'max')\n",
    "    rtn['max vccaux'] = '%.3f' % self.get_vcc('vccaux', 'max')\n",
    "    rtn['max vccbram'] = '%.3f' % self.get_vcc('vccbram', 'max')\n",
    "\n",
    "    rtn['min vccint'] = '%.3f' % self.get_vcc('vccint', 'min')\n",
    "    rtn['min vccaux'] = '%.3f' % self.get_vcc('vccaux', 'min')\n",
    "    rtn['min vccbram'] = '%.3f' % self.get_vcc('vccbram', 'min')\n",
    "\n",
    "    print(util.dict_to_str(rtn))\n",
    "\n",
    "def xadc_clear_error():\n",
    "    target.fpga_write(target.REG_XADC_STAT, [0])"
   ]
  },
  {
   "cell_type": "markdown",
   "id": "979984fa-047e-43fb-aaae-268726d743c8",
   "metadata": {},
   "source": [
    "We can't print the `xadc` object because it's a Husky class with more things that we have here; individual temperature and voltage measurements can be accessed as usual, or used `xadc_status()` to print everything:"
   ]
  },
  {
   "cell_type": "code",
   "execution_count": null,
   "id": "80712bde-85c7-4131-8f28-4c4ba692890b",
   "metadata": {},
   "outputs": [],
   "source": [
    "xadc.temp, xadc.max_temp"
   ]
  },
  {
   "cell_type": "code",
   "execution_count": null,
   "id": "4b8787fa-6888-4ced-80c9-ff49b9521a0b",
   "metadata": {},
   "outputs": [],
   "source": [
    "xadc.vccint, xadc.vccaux, xadc.vccbram"
   ]
  },
  {
   "cell_type": "code",
   "execution_count": null,
   "id": "57d671f6-9a14-4598-bd39-e5befb0e9848",
   "metadata": {},
   "outputs": [],
   "source": [
    "xadc_status()"
   ]
  },
  {
   "cell_type": "markdown",
   "id": "447314bf-5e1b-4041-a6ab-ebbbaeee0666",
   "metadata": {},
   "source": [
    "If the temperature specified by the \"user temperature alarm trigger\" is exceeded, the programmable clock (which runs the AES engines and the hyperram controller) gets shut down in an effort to preserve the FPGA.\n",
    "\n",
    "This threshold can be controlled via the `xadc.temp_trigger` property.\n",
    "\n",
    "Regardless of this user-defined threshold, the \"device temperature alarm trigger\", which is an immutable build-time property (nominally 85C), also shuts down the clock.\n",
    "\n",
    "The clock is also shutdown if any of the VCC supplies exceed their recommended operating range (you can use the `xadc._get_vcc_limit()` and `xadc._set_vcc_limit()` methods to alter these).\n",
    "\n",
    "The clock used for the serial communication link is always kept alive, so it should (in theory!) be possible to recover from a clock shutdown without a reset.\n",
    "\n",
    "XADC errors are sticky; run `xadc_clear_error()` to un-stick them, which should re-enable the clock (if the error condition is no longer present)."
   ]
  },
  {
   "cell_type": "code",
   "execution_count": null,
   "id": "3f2435c1-853d-4bc3-a58c-163c79093906",
   "metadata": {},
   "outputs": [],
   "source": [
    "xadc_clear_error()"
   ]
  },
  {
   "cell_type": "markdown",
   "id": "ba2a4fef-741e-406d-a6a5-8054ff9115b5",
   "metadata": {},
   "source": [
    "## Reading ANALOGx (VAUX) signals:"
   ]
  },
  {
   "cell_type": "code",
   "execution_count": null,
   "id": "83e1fae1-1e66-456d-a3fa-9f874ce2e715",
   "metadata": {},
   "outputs": [],
   "source": [
    "def xadc_analog(i=0):\n",
    "    if   i == 0: j = 4\n",
    "    elif i == 1: j = 12\n",
    "    elif i == 2: j = 5\n",
    "    elif i == 3: j = 13\n",
    "    elif i == 4: j = 6\n",
    "    elif i == 5: j = 14\n",
    "    else: raise ValueError('Unsupported index')\n",
    "    addr = 0x10 + j\n",
    "    raw = xadc.drp.read(addr)\n",
    "    return (raw>>4)/4096 # ref: UG480"
   ]
  },
  {
   "cell_type": "code",
   "execution_count": null,
   "id": "cc2d2829-5418-48ff-8971-f936bf8c1c3f",
   "metadata": {},
   "outputs": [],
   "source": [
    "for i in range(6):\n",
    "    print('ANALOG%d: %f' % (i, xadc_analog(i)))"
   ]
  },
  {
   "cell_type": "markdown",
   "id": "feb66705-a745-4c87-a07f-22ddebf0b23b",
   "metadata": {},
   "source": [
    "## Reading the ANALOGx_DIGITAL signals:"
   ]
  },
  {
   "cell_type": "code",
   "execution_count": null,
   "id": "4ba61f2f-aab8-47ab-a8af-58e4bd5bf051",
   "metadata": {},
   "outputs": [],
   "source": [
    "raw = target.fpga_read(target.REG_ANALOG_DIGITAL, 1)[0]\n",
    "for i in range(0,6):\n",
    "    print('ANALOG%d_DIGITAL: ' % i, end='')\n",
    "    if raw & 2**i:\n",
    "        print('high')\n",
    "    else:\n",
    "        print('low')"
   ]
  },
  {
   "cell_type": "markdown",
   "id": "0466927c-9858-4461-b18b-2f7878b81b75",
   "metadata": {},
   "source": [
    "# Setting the programmable clock:\n",
    "\n",
    "This is the clock used by the AES cores and the Hyperram controller. Default setting is 100 MHz."
   ]
  },
  {
   "cell_type": "code",
   "execution_count": null,
   "id": "1f34dce7-b7f4-4e3f-8b46-7cd361e0ce71",
   "metadata": {},
   "outputs": [],
   "source": [
    "# Connect MMCM:\n",
    "from chipwhisperer.capture.scopes.cwhardware.ChipWhispererHuskyMisc import XilinxDRP, XilinxMMCMDRP\n",
    "drp = XilinxDRP(oa, target.REG_MMCM_DRP_DATA, target.REG_MMCM_DRP_ADDR, target.REG_MMCM_DRP_RESET)\n",
    "mmcm = XilinxMMCMDRP(drp)"
   ]
  },
  {
   "cell_type": "markdown",
   "id": "6ba6141f-7642-44b3-baf7-00a619139fd8",
   "metadata": {},
   "source": [
    "The programmable clock can be controlled via its MMCM's divider and multiplier settings.\n",
    "\n",
    "The input clock is 25 MHz and legal VCO range is around 600 - 1200 MHz IIRC:"
   ]
  },
  {
   "cell_type": "code",
   "execution_count": null,
   "id": "e6b5ad87-36a7-4a92-8d0c-73d5c50290f1",
   "metadata": {},
   "outputs": [],
   "source": [
    "mmcm.get_main_div()"
   ]
  },
  {
   "cell_type": "code",
   "execution_count": null,
   "id": "7dc3f807-395a-44ea-aa9e-c354e3a3d6aa",
   "metadata": {},
   "outputs": [],
   "source": [
    "mmcm.get_mul()"
   ]
  },
  {
   "cell_type": "code",
   "execution_count": null,
   "id": "2caf4324-685f-48b4-8977-4263e37a615f",
   "metadata": {},
   "outputs": [],
   "source": [
    "mmcm.get_sec_div()"
   ]
  },
  {
   "cell_type": "markdown",
   "id": "ae0aeff4-4ad2-4f9b-9012-0d5167780eea",
   "metadata": {},
   "source": [
    "For example, this sets the clock to 25 * 50 / 11 = 113.6 MHz:"
   ]
  },
  {
   "cell_type": "code",
   "execution_count": null,
   "id": "796a00e8-02d8-438d-a9f0-b81463de0684",
   "metadata": {},
   "outputs": [],
   "source": [
    "mmcm.set_mul(50)\n",
    "mmcm.set_sec_div(11)"
   ]
  },
  {
   "cell_type": "markdown",
   "id": "62746768-f85f-43c3-9baf-43c639f10128",
   "metadata": {},
   "source": [
    "**Be careful with these settings as it is possible to set the clock so high that it could overheat and even damage the FPGA!**"
   ]
  },
  {
   "cell_type": "markdown",
   "id": "74a1407e-221f-484b-a8ce-94b6ad68fb86",
   "metadata": {},
   "source": [
    "# Running AES:"
   ]
  },
  {
   "cell_type": "code",
   "execution_count": null,
   "id": "ed97341f-d986-469b-a287-6902a7105205",
   "metadata": {},
   "outputs": [],
   "source": [
    "# run AES:\n",
    "# there are twelve AES cores; each bit turns on/off the corresponding core:\n",
    "CORES = 0b111111111111\n",
    "target.fpga_write(target.REG_AES_CORES_EN, int.to_bytes(CORES, length=8, byteorder='little'))\n",
    "\n",
    "# write some key and PT:\n",
    "target.fpga_write(target.REG_CRYPT_KEY, range(16))\n",
    "target.fpga_write(target.REG_CRYPT_TEXTIN, range(16))\n",
    "target.fpga_write(target.REG_CRYPT_GO, [1])\n",
    "\n",
    "# read result:\n",
    "print(list(target.fpga_read(target.REG_CRYPT_CIPHEROUT, 16)))"
   ]
  },
  {
   "cell_type": "markdown",
   "id": "e14e15fd-9ca0-4472-98fd-f3215639a922",
   "metadata": {},
   "source": [
    "To stress the board power supply and heat dissipation, run this to make it encrypt non-stop. **Keep an eye out on the XADC temperature!**"
   ]
  },
  {
   "cell_type": "code",
   "execution_count": null,
   "id": "533a9efd-0cd1-4b47-b45c-2427e652a36e",
   "metadata": {},
   "outputs": [],
   "source": [
    "# make it encrypt non-stop:\n",
    "target.fpga_write(target.REG_AES_ALWAYS_ON, [1])"
   ]
  },
  {
   "cell_type": "code",
   "execution_count": null,
   "id": "1dfdb178-42e0-47ff-8d09-e8c2076e6101",
   "metadata": {},
   "outputs": [],
   "source": [
    "# and stop:\n",
    "target.fpga_write(target.REG_AES_ALWAYS_ON, [0])"
   ]
  },
  {
   "cell_type": "markdown",
   "id": "2faabb3b-bd85-4577-a259-24096542748f",
   "metadata": {},
   "source": [
    "# Hyperram test:\n",
    "\n",
    "Note this is the same IP and interface used on the Luna board."
   ]
  },
  {
   "cell_type": "code",
   "execution_count": null,
   "id": "fa9f9839-b04d-4eef-b624-339381c57efa",
   "metadata": {},
   "outputs": [],
   "source": [
    "from tqdm.notebook import tqdm\n",
    "import time\n",
    "\n",
    "def lb_write(addr, data1, data2=None):\n",
    "    # 1. set lb_action(s) to write:\n",
    "    action_bits = 0\n",
    "    if data1 != None:\n",
    "        action_bits += 2**0\n",
    "    if data2 != None:\n",
    "        action_bits += 2**2\n",
    "    target.fpga_write(target.REG_LB_ACTION, [action_bits])\n",
    "    \n",
    "    # 2. write data(s)\n",
    "    if data1 != None and data2 != None:\n",
    "        target.fpga_write(target.REG_LB_DATA1, int.to_bytes(data1 + (data2 << 32), length=8, byteorder='little'))\n",
    "    elif data1 != None:\n",
    "        target.fpga_write(target.REG_LB_DATA1, int.to_bytes(data1, length=4, byteorder='little'))\n",
    "    elif data2 != None:\n",
    "        target.fpga_write(target.REG_LB_DATA2, int.to_bytes(data2, length=4, byteorder='little'))\n",
    "    else:\n",
    "        raise ValueError('Must specify some data to write!')\n",
    "    \n",
    "    # 3. write address (this triggers the LB write action):\n",
    "    target.fpga_write(target.REG_LB_ADDR, int.to_bytes(addr, length=4, byteorder='little'))\n",
    "        \n",
    "\n",
    "def lb_read(addr, h1en=True, h2en=False):\n",
    "    # 1. set lb_action(s) to read:\n",
    "    action_bits = 0\n",
    "    if h1en:\n",
    "        action_bits += 2**1\n",
    "    if h2en:\n",
    "        action_bits += 2**3\n",
    "    target.fpga_write(target.REG_LB_ACTION, [action_bits])\n",
    "\n",
    "    # 2. write address (this triggers the LB read action):\n",
    "    target.fpga_write(target.REG_LB_ADDR, int.to_bytes(addr, length=4, byteorder='little'))\n",
    "    \n",
    "    # 3. read data(s):\n",
    "    data1 = None\n",
    "    data2 = None\n",
    "    if h1en and h1en:\n",
    "        raw = target.fpga_read(target.REG_LB_DATA1, 8)\n",
    "        data1 = int.from_bytes(raw[0:4], byteorder='little')\n",
    "        data2 = int.from_bytes(raw[4:8], byteorder='little')\n",
    "    elif h1en:\n",
    "        data1 = int.from_bytes(target.fpga_read(target.REG_LB_DATA1, 4), byteorder='little')\n",
    "    elif h2en:\n",
    "        data2 = int.from_bytes(target.fpga_read(target.REG_LB_DATA2, 4), byteorder='little')\n",
    "    else:\n",
    "        raise ValueError('Must read from at least one memory!')\n",
    "\n",
    "    return data1, data2\n",
    "\n",
    "def set_config(config=0x8fec0000):\n",
    "    # set config as per do_files:\n",
    "    lb_write(0x14, config, config) # default = 83 MHz fixed 2x access\n",
    "    lb_write(0x1c, 0x05, 0x05) # execute the config write\n",
    "\n",
    "def reset_hyperram(short_pulse=False):\n",
    "    target.fpga_write(target.REG_LB_MANUAL, [1]) # turn off auto test (in case FSM was stuck)\n",
    "    if short_pulse:\n",
    "        target.fpga_write(target.REG_HYPER_RESET, [0xff])\n",
    "    else:\n",
    "        target.fpga_write(target.REG_HYPER_RESET, [1])\n",
    "        target.fpga_write(target.REG_HYPER_RESET, [0])\n",
    "\n",
    "def write_mem_1word(addr, data1, data2=None, h1en=True, h2en=False):\n",
    "    if h1en:\n",
    "        addr1=addr\n",
    "        cmd1 = 0x01\n",
    "    else:\n",
    "        addr1=None\n",
    "        cmd1 = None\n",
    "    if h2en:\n",
    "        addr2=addr\n",
    "        cmd2 = 0x01\n",
    "    else:\n",
    "        addr2=None\n",
    "        cmd2 = None\n",
    "    \n",
    "    lb_write(0x10, addr1, addr2) # address\n",
    "    lb_write(0x14, data1, data2) # data\n",
    "    lb_write(0x1c, cmd1, cmd2) # write command\n",
    "\n",
    "def read_mem_1word(addr, h1en=True, h2en=False):\n",
    "    if h1en:\n",
    "        addr1=addr\n",
    "        cmd1=0x04\n",
    "    else:\n",
    "        addr1=None\n",
    "        cmd1=None\n",
    "    if h2en:\n",
    "        addr2=addr\n",
    "        cmd2=0x04\n",
    "    else:\n",
    "        addr2=None\n",
    "        cmd4=None\n",
    "    \n",
    "    lb_write(0x10, addr1, addr2) # address\n",
    "    lb_write(0x1c, cmd1, cmd2) # read command\n",
    "    return lb_read(0x14, h1en, h2en)\n",
    "\n",
    "def write_mem_words(addr, data):\n",
    "    # write 64 bits to each hyperram (total 128 bits)\n",
    "    # data should be a list of four 32-bit ints\n",
    "    cmd = 0x3 \n",
    "    lb_write(0x10, addr, addr) # address\n",
    "    lb_write(0x14, data[0], data[1])\n",
    "    lb_write(0x18, data[2], data[3])\n",
    "    lb_write(0x1c, cmd, cmd) # write command\n",
    "\n",
    "def read_mem_words(addr, h1en=True, h2en=False):\n",
    "    # read 64 bits from each hyperram (total 128 bits)\n",
    "    # returns a list of four 32-bit ints\n",
    "    cmd = 0x04  \n",
    "    lb_write(0x10, addr, addr) # address\n",
    "    lb_write(0x1c, cmd, cmd) # read command\n",
    "    data = list(lb_read(0x14, True, True))\n",
    "    data.extend(list(lb_read(0x18, True, True)))\n",
    "    return data\n",
    "\n",
    "def auto_hyperram_test(hr1en=True, hr2en=False, start=0, stop=64*1024*1024//32-1):\n",
    "    target.fpga_write(target.REG_LB_START_ADDR, int.to_bytes(start, length=4, byteorder='little'))\n",
    "    target.fpga_write(target.REG_LB_STOP_ADDR, int.to_bytes(stop,  length=4, byteorder='little'))\n",
    "    target.fpga_write(target.REG_LB_MANUAL, [3]) # turn off auto test and clear fail\n",
    "    config = 16 # set LFSR mode\n",
    "    if hr1en:\n",
    "        config += 8\n",
    "    if hr2en:\n",
    "        config += 4\n",
    "    target.fpga_write(target.REG_LB_MANUAL, [config]) # turn on test\n",
    "    wpbar = tqdm(total=stop, desc='writes')\n",
    "    prevaddr = 0\n",
    "    addr = 0\n",
    "    while addr < stop:\n",
    "        addr = int.from_bytes(target.fpga_read(target.REG_LB_CURRENT_ADDR, 4), byteorder='little') # current address being read/written\n",
    "        if addr < prevaddr:\n",
    "            break\n",
    "        wpbar.update(addr - prevaddr)\n",
    "        prevaddr = addr\n",
    "        time.sleep(0.1)\n",
    "        busy_stuck = target.fpga_read(target.REG_HYPER_STATUS, 1)[0] & 6\n",
    "        if busy_stuck:\n",
    "            raise ValueError(\"Hyperram controller appears to be stuck! Re-run the reset_hyperram() and set_config() cells to reset it before trying again.\")\n",
    "    wpbar.close()\n",
    "    \n",
    "    rpbar = tqdm(total=stop, desc='reads')\n",
    "    prevaddr = 0\n",
    "    addr = 0\n",
    "    while addr < stop:\n",
    "        addr = int.from_bytes(target.fpga_read(target.REG_LB_CURRENT_ADDR, 4), byteorder='little') # current address being read/written\n",
    "        if addr < prevaddr:\n",
    "            break\n",
    "        rpbar.update(addr - prevaddr)\n",
    "        prevaddr = addr\n",
    "        time.sleep(0.1)\n",
    "        busy_stuck = target.fpga_read(target.REG_HYPER_STATUS, 1)[0] & 6\n",
    "        if busy_stuck:\n",
    "            raise ValueError(\"Hyperram controller appears to be stuck! Re-run the reset_hyperram() and set_config() cells to reset it before trying again.\")\n",
    "\n",
    "    total_errors = int.from_bytes(target.fpga_read(target.REG_LB_ERRORS, 4), byteorder='little')\n",
    "    rpbar.close()\n",
    "    \n",
    "    status = target.fpga_read(target.REG_HYPER_STATUS, 1)[0]\n",
    "\n",
    "    if status & 16:\n",
    "        print('Test passed')\n",
    "    else:\n",
    "        print('Test FAILED; %d errors' % total_errors)\n",
    "        if hr1en and hr2en:\n",
    "            mx = 2\n",
    "        else:\n",
    "            mx = 1\n",
    "        print('Percentage of good reads: %3.2f%%' % ((1-(total_errors/((stop-start)*mx)))*100))\n",
    "    \n",
    "\n",
    "def auto_last_address():\n",
    "    return int.from_bytes(target.fpga_read(target.REG_LB_CURRENT_ADDR, 4), byteorder='little')\n",
    "\n",
    "def auto_test_errors():\n",
    "    return int.from_bytes(target.fpga_read(target.REG_LB_ERRORS, 4), byteorder='little')\n",
    "\n",
    "def auto_hyperram_long(start=0, stop=64*1024*1024//32-1, iterations = 1000):\n",
    "    target.fpga_write(target.REG_LB_START_ADDR, int.to_bytes(start, length=4, byteorder='little'))\n",
    "    target.fpga_write(target.REG_LB_STOP_ADDR, int.to_bytes(stop,  length=4, byteorder='little'))\n",
    "    target.fpga_write(target.REG_LB_MANUAL, [3]) # turn off auto test and clear fail\n",
    "    config = 16 + 8 # set LFSR mode, enable HR1 only\n",
    "    target.fpga_write(target.REG_LB_MANUAL, [config]) # turn on test\n",
    "    pbar = tqdm(total=iterations, desc='iterations')\n",
    "    ebar = tqdm(total=1000, desc='errors')\n",
    "    prev_iteration = 0\n",
    "    current_iteration = 0\n",
    "\n",
    "    prev_errors = 0\n",
    "    current_errors = 0\n",
    "\n",
    "    while current_iteration < iterations:\n",
    "        current_iteration = int.from_bytes(target.fpga_read(target.REG_LB_ITERATIONS, 2), byteorder='little')\n",
    "        pbar.update(current_iteration - prev_iteration)\n",
    "        prev_iteration = current_iteration\n",
    "\n",
    "        current_errors = int.from_bytes(target.fpga_read(target.REG_LB_ERRORS, 4), byteorder='little')\n",
    "        ebar.update(current_errors - prev_errors)\n",
    "        prev_errors = current_errors\n",
    "\n",
    "        time.sleep(0.01)\n",
    "        busy_stuck = target.fpga_read(target.REG_HYPER_STATUS, 1)[0] & 6\n",
    "        if busy_stuck:\n",
    "            raise ValueError(\"Hyperram controller appears to be stuck! Re-run the reset_hyperram() and set_config() cells to reset it before trying again.\")\n",
    "    pbar.close()\n",
    "    ebar.close()\n",
    "\n",
    "    status = target.fpga_read(target.REG_HYPER_STATUS, 1)[0]\n",
    "\n",
    "    if status & 16:\n",
    "        print('Test passed')\n",
    "    else:\n",
    "        print('Test FAILED; %d errors' % current_errors)\n",
    "        print('Percentage of good reads: %3.2f%%' % ((1-(current_errors/((stop-start)*iterations)))*100))\n"
   ]
  },
  {
   "cell_type": "markdown",
   "id": "ba00a396-f2d5-48cb-97cd-5374cd46449c",
   "metadata": {},
   "source": [
    "Whenever the clock rate is changed, you should re-run the `reset_hyperram()` and `set_config()` commands:"
   ]
  },
  {
   "cell_type": "code",
   "execution_count": null,
   "id": "43348690-d600-4832-9235-140781d9cbbc",
   "metadata": {},
   "outputs": [],
   "source": [
    "reset_hyperram()"
   ]
  },
  {
   "cell_type": "code",
   "execution_count": null,
   "id": "f6341c46-024e-4482-bcff-6af60f9b8915",
   "metadata": {},
   "outputs": [],
   "source": [
    "#set_config(0x8f140a07) # 166 MHz variable\n",
    "#set_config(0x8f1c0a07) # 166 MHz fixed\n",
    "#set_config(0x8f0c0806) # 133 MHz fixed\n",
    "\n",
    "set_config(0x8ffc0605) # 100 MHz fixed\n",
    "#set_config(0x8fec0404) # 83 MHz fixed"
   ]
  },
  {
   "cell_type": "markdown",
   "id": "31bc2dc2-e823-43cc-953b-7aefd78ec65c",
   "metadata": {},
   "source": [
    "Automated check over the full memory space (single iteration):"
   ]
  },
  {
   "cell_type": "code",
   "execution_count": null,
   "id": "d7dad28f-f8b6-4fd7-89fd-bc6b37514c15",
   "metadata": {},
   "outputs": [],
   "source": [
    "auto_hyperram_test()"
   ]
  },
  {
   "cell_type": "code",
   "execution_count": null,
   "id": "17a191bc-44be-44b0-8881-29304bbb4ac4",
   "metadata": {},
   "outputs": [],
   "source": [
    "# If stuck, report last read or write address, and number of errors:\n",
    "print('Last read or write address (if stuck): %d' % auto_last_address())\n",
    "print('Numer of errors: %d' % auto_test_errors())"
   ]
  },
  {
   "cell_type": "code",
   "execution_count": null,
   "id": "8fc04a5b-cf5c-4beb-a3c1-f8bd4ffcb2fe",
   "metadata": {},
   "outputs": [],
   "source": [
    "# can also limit the address range; here does first 8192 words only:\n",
    "auto_hyperram_test(stop=8192//32-1)"
   ]
  },
  {
   "cell_type": "markdown",
   "id": "b8a26d1e-fbe2-48a4-a9dc-83df2c6dab3f",
   "metadata": {},
   "source": [
    "Stress test by running multiple iterations over the full memory space (takes roughly 1 second per iteration):"
   ]
  },
  {
   "cell_type": "code",
   "execution_count": null,
   "id": "4f9ee07c-7d89-4b1d-8964-cb503d6ed73a",
   "metadata": {},
   "outputs": [],
   "source": [
    "auto_hyperram_long(iterations=100)"
   ]
  },
  {
   "cell_type": "markdown",
   "id": "ca692c1b-a25f-4185-8491-d481b3d6ff9f",
   "metadata": {},
   "source": [
    "Python-driven memory test -- much slower; can be useful to diagnose issues.\n",
    "\n",
    "Unlike the automated test this does not validate the full memory (it would take a few days with this approach!), however it does fully exercise the interface of the memory (with the default settings used below)."
   ]
  },
  {
   "cell_type": "code",
   "execution_count": null,
   "id": "ade32b75-20a0-4dc0-8b15-44a90f48106f",
   "metadata": {},
   "outputs": [],
   "source": [
    "WORDS = 32\n",
    "#WORDS = 1024\n",
    "# CHECKS controls which of the two words per burst are verified:\n",
    "CHECKS = [0,2] # check burst read/write\n",
    "#CHECKS = [0] # check only the first 32 bits\n",
    "\n",
    "# start address for the test (divide what auto_last_address() reports by 2):\n",
    "START = 0\n",
    "#START = 233000//2"
   ]
  },
  {
   "cell_type": "code",
   "execution_count": null,
   "id": "983d446d-0e36-4bba-a1ed-d6a8d6f5c2cd",
   "metadata": {},
   "outputs": [],
   "source": [
    "import random\n",
    "from tqdm.notebook import tnrange\n",
    "\n",
    "target.fpga_write(target.REG_LB_MANUAL, [3]) # turn off auto test and clear fail\n",
    "\n",
    "wdata = []\n",
    "errors = 0\n",
    "goods = 0\n",
    "for i in tnrange(START, START+WORDS, desc='Writing'):\n",
    "    data = []\n",
    "    for j in range(4):\n",
    "        data.append(random.randint(0, 2**32-1))\n",
    "        #print('i=%3d, j=%3d: writing %08x' % (i, j, data[-1]))\n",
    "    write_mem_words(i*2, data)\n",
    "    wdata.append(data)\n",
    "    busy_stuck = target.fpga_read(0x83, 1)[0] & 6\n",
    "    if busy_stuck:\n",
    "        raise ValueError(\"Hyperram controller appears to be stuck on address %08x! Re-run the reset_hyperram() and set_config() cells to reset it before trying again.\" % (i*2))\n",
    "\n",
    "\n",
    "for i in tnrange(START, START+WORDS, desc='Reading'):\n",
    "    rdata = read_mem_words(i*2)\n",
    "    busy_stuck = target.fpga_read(0x83, 1)[0] & 6\n",
    "    if busy_stuck:\n",
    "        raise ValueError(\"Hyperram controller appears to be stuck on address %08x! Re-run the reset_hyperram() and set_config() cells to reset it before trying again.\" % (i*2))\n",
    "    rdata_filtered = []\n",
    "    wdata_filtered = []\n",
    "    for j in CHECKS:\n",
    "        rdata_filtered.append(rdata[j])\n",
    "        wdata_filtered.append(wdata[i-START][j])                     \n",
    "    if rdata_filtered != wdata_filtered:\n",
    "        for j in range(len(CHECKS)):\n",
    "            expect = wdata_filtered[j]\n",
    "            got = rdata_filtered[j]\n",
    "            if got != expect:\n",
    "                errors += 1\n",
    "                if errors < 10:\n",
    "                    print('i=%3d, j=%3d: got %08x, expected %08x, diff %08x, bits wrong: %3d' % (i, j, got, expect, got ^ expect, bin(got ^ expect).count('1')))\n",
    "            else:\n",
    "                goods += 1\n",
    "    else:\n",
    "        if goods == 0:\n",
    "            print('Good read for i=%3d' % i)\n",
    "        goods += len(CHECKS)\n",
    "\n",
    "print('Percentage of good reads: %d%%' % (goods/(errors+goods)*100))\n",
    "assert errors == 0, '%d errors!' % errors"
   ]
  },
  {
   "cell_type": "code",
   "execution_count": null,
   "id": "ae39f0c4-4f79-40d7-b9bd-6a2be02af1a1",
   "metadata": {},
   "outputs": [],
   "source": []
  },
  {
   "cell_type": "code",
   "execution_count": null,
   "id": "cfb1fbf6-fa7e-40fd-bd69-cfbd5c09668a",
   "metadata": {},
   "outputs": [],
   "source": []
  }
 ],
 "metadata": {
  "kernelspec": {
   "display_name": "Python 3 (ipykernel)",
   "language": "python",
   "name": "python3"
  },
  "language_info": {
   "codemirror_mode": {
    "name": "ipython",
    "version": 3
   },
   "file_extension": ".py",
   "mimetype": "text/x-python",
   "name": "python",
   "nbconvert_exporter": "python",
   "pygments_lexer": "ipython3",
   "version": "3.9.7"
  }
 },
 "nbformat": 4,
 "nbformat_minor": 5
}
