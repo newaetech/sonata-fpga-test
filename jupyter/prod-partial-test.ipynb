{
 "cells": [
  {
   "cell_type": "markdown",
   "id": "0104a034",
   "metadata": {},
   "source": [
    "## OpenOCD test\n",
    "Setup switch to TOP so it loads Sonata LCD:"
   ]
  },
  {
   "cell_type": "code",
   "execution_count": null,
   "id": "a8b48a12",
   "metadata": {},
   "outputs": [],
   "source": [
    "!/tools/openocd/bin/openocd -f ~/sonata/ibex-demo-system-greg/util/sonata-openocd-cfg.tcl -c exit"
   ]
  },
  {
   "cell_type": "code",
   "execution_count": null,
   "id": "e4095630",
   "metadata": {},
   "outputs": [],
   "source": []
  },
  {
   "cell_type": "markdown",
   "id": "68db1cd6",
   "metadata": {},
   "source": [
    "## J-P's magic test\n",
    "\n",
    "Will need to run this (and maybe adjust) on command line since Sudo won't work, but for reference:"
   ]
  },
  {
   "cell_type": "code",
   "execution_count": null,
   "id": "a3779902",
   "metadata": {},
   "outputs": [],
   "source": [
    "!sudo chmod a+rw /dev/ttyUSB2"
   ]
  },
  {
   "cell_type": "markdown",
   "id": "29b36831",
   "metadata": {},
   "source": [
    "Then run these cells:"
   ]
  },
  {
   "cell_type": "code",
   "execution_count": null,
   "id": "ffe9eefa-ef59-456b-9066-81902a4b8078",
   "metadata": {},
   "outputs": [],
   "source": [
    "import chipwhisperer as cw\n",
    "#scope = cw.scope()\n",
    "#scope.default_setup()"
   ]
  },
  {
   "cell_type": "markdown",
   "id": "8c5f4f76-773a-4839-893c-f1fa01efd821",
   "metadata": {},
   "source": [
    "Program bitfile using platform cable or other means!\n",
    "\n",
    "Use the bitfile under `impl_hbmc`:"
   ]
  },
  {
   "cell_type": "code",
   "execution_count": null,
   "id": "19df4b0d-5c96-41ce-849a-2c6a2ffbf6fc",
   "metadata": {},
   "outputs": [],
   "source": [
    "#!ls -l ../fpga/vivado/sonata.runs/impl_hbmc/sonata_top.bit"
   ]
  },
  {
   "cell_type": "markdown",
   "id": "aad8f575-bfa5-49c4-9aff-a3bbe63e287f",
   "metadata": {},
   "source": [
    "Connect to target (but don't program it -- this must be done through some other means).\n",
    "\n",
    "If you get some errors about `...fpga.program()`, update your CW repo (on the develop branch).\n",
    "\n",
    "The warning about not having the right number of defines is safe to ignore."
   ]
  },
  {
   "cell_type": "code",
   "execution_count": null,
   "id": "2417c19d-bebb-4e51-a993-e51bd7aec10e",
   "metadata": {},
   "outputs": [],
   "source": [
    "target = cw.target(None, cw.targets.CW305, force=False, bsfile='',\n",
    "                   platform='ss2cdc_a35', defines_files=['../fpga/hdl/sonata_defines.v'], program=False,\n",
    "                   cdc_port=\"/dev/ttyUSB2\")"
   ]
  },
  {
   "cell_type": "markdown",
   "id": "d981ff08-79e0-4738-8470-ad2960ff3495",
   "metadata": {},
   "source": [
    "Diagnostic LEDs: by default, LEDs show the following:\n",
    "- `USRLED0`: main clock heartbeat (25 MHz, MAINCLK on schematic)\n",
    "- `USRLED1`: AES programmable clock heartbeat (MAINCLK multiplied by 4 (default) by FPGA PLL)\n",
    "- `USRLED2`: HyperRAM programmable clock heartbeat (MAINCLK multiplied by 8 (default) by FPGA PLL)\n",
    "- `USRLED3`: HyperRAM AXI response error\n",
    "- `USRLED4`: HyperRAM controller 90 degree shifted clock is unlocked\n",
    "- `USRLED5`: HyperRAM SERDES clock is unlocked\n",
    "- `USRLED6`: AES programmable clock MMCM is unlocked\n",
    "- `USRLED7`: HyperRAM programmable clock MMCM is unlocked\n",
    "- `CHERIERR0`: SS2 error\n",
    "- `CHERIERR1`: XADC error (temp/voltage out of spec)\n",
    "- `CHERIERR2`: settable via register write to `target.REG_USER_LED`\n",
    "- `CHERIERR3`: HyperRAM controller busy (not idle)\n",
    "- all other LEDs off\n",
    "\n",
    "Normal status is three heartbeat LEDs and no other LEDs on (except for `CHERIERR3` if a HyperRAM test is actively running)."
   ]
  },
  {
   "cell_type": "markdown",
   "id": "afe1734b-b37c-49d9-b56c-e50cf9255f26",
   "metadata": {},
   "source": [
    "Next we check that we can communicate with the Sonata FPGA.\n",
    "\n",
    "**Uses SimpleSerial2 using scope's tio1/tio2 and Sonata's SER0_TX/SER0_RX (on P12 pins 2 and 4).**\n",
    "\n",
    "**If this fails, nothing else will work!**"
   ]
  },
  {
   "cell_type": "code",
   "execution_count": null,
   "id": "621b5406-cce8-4645-86d1-7dbb9235dee2",
   "metadata": {},
   "outputs": [],
   "source": [
    "target._ss2_test_echo()"
   ]
  },
  {
   "cell_type": "code",
   "execution_count": null,
   "id": "44f06a3b-360e-4de1-a258-5fbaf30d46cb",
   "metadata": {},
   "outputs": [],
   "source": [
    "# you should also see a build time that makes sense:\n",
    "target.fpga_buildtime"
   ]
  },
  {
   "cell_type": "markdown",
   "id": "e6cccdd6-2ec7-4a3c-ade7-e800b443e9e2",
   "metadata": {},
   "source": [
    "# LEDs and switches:"
   ]
  },
  {
   "cell_type": "code",
   "execution_count": null,
   "id": "bc4e2be5-7505-498b-a849-dd330681f01d",
   "metadata": {},
   "outputs": [],
   "source": [
    "# make all the LEDs blink:\n",
    "target.fpga_write(target.REG_LEDS, [0, 0, 0x60])"
   ]
  },
  {
   "cell_type": "code",
   "execution_count": null,
   "id": "9a0027b3-7995-4b96-b5d8-9c8626c81cdc",
   "metadata": {},
   "outputs": [],
   "source": [
    "# return LEDs to normal:\n",
    "target.fpga_write(target.REG_LEDS, [0, 0, 0])"
   ]
  },
  {
   "cell_type": "code",
   "execution_count": null,
   "id": "d04d9cf1",
   "metadata": {},
   "outputs": [],
   "source": [
    "ok = 0x0000\n",
    "last_ok = 0\n",
    "\n",
    "last_read = int.from_bytes(target.fpga_read(target.REG_DIPS, 2), byteorder='little')\n",
    "\n",
    "while ok != 0xffff:\n",
    "    raw = int.from_bytes(target.fpga_read(target.REG_DIPS, 2), byteorder='little')\n",
    "    \n",
    "    new = raw ^ last_read\n",
    "    last_read = raw\n",
    "    \n",
    "    ok |= new\n",
    "    new_ok = ok ^ last_ok\n",
    "    last_ok = ok\n",
    "    \n",
    "    for i in range(0,16):\n",
    "        if i in range(0,3): label = 'SELSW%d' % i\n",
    "        elif i in range(3, 8): label = 'NAVSW%d' % (i-3)\n",
    "        elif i in range(8, 16): label = 'USRSW%d' % (i-8)        \n",
    "        if new_ok & 2**i:\n",
    "            print(label, end=' OK\\n')\n",
    "        #if i in [2, 7]:\n",
    "        #    print()"
   ]
  },
  {
   "cell_type": "markdown",
   "id": "bc1f342f-997d-44ac-abdf-5e7ecd5ff27a",
   "metadata": {},
   "source": [
    "This runs in an infinite loop, updating what's shown whenever a switch status changes:"
   ]
  },
  {
   "cell_type": "markdown",
   "id": "a0b42378-dffb-4f86-a360-3802636d8d2f",
   "metadata": {},
   "source": [
    "# XADC:"
   ]
  },
  {
   "cell_type": "code",
   "execution_count": null,
   "id": "bb7386d6-9c1a-4225-8afb-154e45bfc870",
   "metadata": {},
   "outputs": [],
   "source": [
    "# connect XADC:\n",
    "from chipwhisperer.capture.scopes.cwhardware.ChipWhispererHuskyMisc import XADCSettings\n",
    "from chipwhisperer.common.utils import util\n",
    "\n",
    "CODE_READ       = 0x80\n",
    "CODE_WRITE      = 0xC0\n",
    "\n",
    "class fakeoa(object):\n",
    "    def __init__(self):\n",
    "        pass    \n",
    "    def sendMessage(self, mode, address, payload=None, Validate=False, maxResp=1, readMask=None):\n",
    "        if mode != CODE_WRITE:\n",
    "            return target.fpga_read(address, maxResp)\n",
    "        else:\n",
    "            target.fpga_write(address, payload)\n",
    "\n",
    "oa = fakeoa()\n",
    "xadc = XADCSettings(oa)\n",
    "xadc.drp.data = target.REG_XADC_DRP_DATA\n",
    "xadc.drp.addr = target.REG_XADC_DRP_ADDR\n",
    "xadc.drp.reset_address = None\n",
    "\n",
    "def xadc_status():\n",
    "    self = xadc\n",
    "    rtn = {}\n",
    "    rtn['current temperature [C]'] = '%.1f' % self.temp\n",
    "    rtn['maximum temperature [C]'] = '%.1f' % self.max_temp\n",
    "    rtn['user temperature alarm trigger [C]'] = '%.1f' % self.temp_trigger\n",
    "    rtn['user temperature reset trigger [C]'] = '%.1f' % self.temp_reset\n",
    "    rtn['device temperature alarm trigger [C]'] = '%.1f' % self.ot_temp_trigger\n",
    "    rtn['device temperature reset trigger [C]'] = '%.1f' % self.ot_temp_reset\n",
    "    rtn['vccint'] = '%.3f' % self.vccint\n",
    "    rtn['vccaux'] = '%.3f' % self.vccaux\n",
    "    rtn['vccbram'] = '%.3f' % self.vccbram\n",
    "    \n",
    "    rtn['max vccint'] = '%.3f' % self.get_vcc('vccint', 'max')\n",
    "    rtn['max vccaux'] = '%.3f' % self.get_vcc('vccaux', 'max')\n",
    "    rtn['max vccbram'] = '%.3f' % self.get_vcc('vccbram', 'max')\n",
    "\n",
    "    rtn['min vccint'] = '%.3f' % self.get_vcc('vccint', 'min')\n",
    "    rtn['min vccaux'] = '%.3f' % self.get_vcc('vccaux', 'min')\n",
    "    rtn['min vccbram'] = '%.3f' % self.get_vcc('vccbram', 'min')\n",
    "\n",
    "    print(util.dict_to_str(rtn))\n",
    "\n",
    "def xadc_clear_error():\n",
    "    target.fpga_write(target.REG_XADC_STAT, [0])"
   ]
  },
  {
   "cell_type": "markdown",
   "id": "979984fa-047e-43fb-aaae-268726d743c8",
   "metadata": {},
   "source": [
    "We can't print the `xadc` object because it's a Husky class with more things that we have here; individual temperature and voltage measurements can be accessed as usual, or used `xadc_status()` to print everything:"
   ]
  },
  {
   "cell_type": "code",
   "execution_count": null,
   "id": "80712bde-85c7-4131-8f28-4c4ba692890b",
   "metadata": {},
   "outputs": [],
   "source": [
    "xadc.temp, xadc.max_temp"
   ]
  },
  {
   "cell_type": "code",
   "execution_count": null,
   "id": "4b8787fa-6888-4ced-80c9-ff49b9521a0b",
   "metadata": {},
   "outputs": [],
   "source": [
    "print(xadc.vccint)\n",
    "print(xadc.vccaux)\n",
    "print(xadc.vccbram)\n",
    "\n",
    "xadc_ok = True\n",
    "\n",
    "if not (xadc.vccint > 0.95 and xadc.vccint < 1.05):\n",
    "    xadc_ok = False\n",
    "\n",
    "if not (xadc.vccbram > 0.95 and xadc.vccbram < 1.05):\n",
    "    xadc_ok = False\n",
    "    \n",
    "if not (xadc.vccaux > 1.75 and xadc.vccaux < 1.85):\n",
    "    xadc_ok = False\n",
    "    \n",
    "assert(xadc_ok)"
   ]
  },
  {
   "cell_type": "code",
   "execution_count": null,
   "id": "57d671f6-9a14-4598-bd39-e5befb0e9848",
   "metadata": {},
   "outputs": [],
   "source": [
    "xadc_status()"
   ]
  },
  {
   "cell_type": "code",
   "execution_count": null,
   "id": "3f2435c1-853d-4bc3-a58c-163c79093906",
   "metadata": {},
   "outputs": [],
   "source": [
    "xadc_clear_error()"
   ]
  },
  {
   "cell_type": "markdown",
   "id": "ba2a4fef-741e-406d-a6a5-8054ff9115b5",
   "metadata": {},
   "source": [
    "## Reading ANALOGx (VAUX) signals:"
   ]
  },
  {
   "cell_type": "code",
   "execution_count": null,
   "id": "83e1fae1-1e66-456d-a3fa-9f874ce2e715",
   "metadata": {},
   "outputs": [],
   "source": [
    "def xadc_analog(i=0):\n",
    "    if   i == 0: j = 4\n",
    "    elif i == 1: j = 12\n",
    "    elif i == 2: j = 5\n",
    "    elif i == 3: j = 13\n",
    "    elif i == 4: j = 6\n",
    "    elif i == 5: j = 14\n",
    "    else: raise ValueError('Unsupported index')\n",
    "    addr = 0x10 + j\n",
    "    raw = xadc.drp.read(addr)\n",
    "    return (raw>>4)/4096 # ref: UG480"
   ]
  },
  {
   "cell_type": "code",
   "execution_count": null,
   "id": "cc2d2829-5418-48ff-8971-f936bf8c1c3f",
   "metadata": {},
   "outputs": [],
   "source": [
    "for i in range(6):\n",
    "    print('ANALOG%d: %f' % (i, xadc_analog(i)))"
   ]
  },
  {
   "cell_type": "markdown",
   "id": "feb66705-a745-4c87-a07f-22ddebf0b23b",
   "metadata": {},
   "source": [
    "## Reading the ANALOGx_DIGITAL signals:"
   ]
  },
  {
   "cell_type": "code",
   "execution_count": null,
   "id": "4ba61f2f-aab8-47ab-a8af-58e4bd5bf051",
   "metadata": {},
   "outputs": [],
   "source": [
    "raw = target.fpga_read(target.REG_ANALOG_DIGITAL, 1)[0]\n",
    "for i in range(0,6):\n",
    "    print('ANALOG%d_DIGITAL: ' % i, end='')\n",
    "    if raw & 2**i:\n",
    "        print('high')\n",
    "    else:\n",
    "        print('low')"
   ]
  },
  {
   "cell_type": "markdown",
   "id": "2faabb3b-bd85-4577-a259-24096542748f",
   "metadata": {},
   "source": [
    "# Hyperram test:\n",
    "\n",
    "Note this is now using the OpenHBMC HyperRAM controller. "
   ]
  },
  {
   "cell_type": "code",
   "execution_count": null,
   "id": "ee2626cf-bcf2-43f8-b1bf-c2e3420d8262",
   "metadata": {},
   "outputs": [],
   "source": [
    "from tqdm.notebook import tqdm\n",
    "import time\n",
    "\n",
    "def auto_hyperram_off():\n",
    "    target.fpga_write(target.REG_LB_MANUAL, [3]) # turn off auto test and clear fail\n",
    "\n",
    "def reset_hyperram():\n",
    "    target.fpga_write(target.REG_HYPER_RESET, [1])\n",
    "    target.fpga_write(target.REG_HYPER_RESET, [0])\n",
    "\n",
    "def check_clocks():\n",
    "    raw = target.fpga_read(target.REG_CLKSETTINGS, 1)[0]\n",
    "    if not raw & 1:\n",
    "        raise ValueError('AXI/AES clock is unlocked!')\n",
    "    if not raw & 2:\n",
    "        raise ValueError('HyperRAM clock is unlocked!')\n",
    "\n",
    "    raw = target.fpga_read(target.REG_HYPER_STATUS, 1)[0]\n",
    "    if not raw & 1:\n",
    "        raise ValueError('HyperRAM 90 degree shifted clock is unlocked!')\n",
    "    if not raw & 32:\n",
    "        raise ValueError('HyperRAM SERDES clock is unlocked!')\n",
    "        \n",
    "def auto_hyperram_test(start=0, stop=8*1024*1024-4, verbose=True):\n",
    "    if start % 4 or stop % 4:\n",
    "        raise ValueError('Start and stop addresses need to be a multiple of 4.')\n",
    "    check_clocks()\n",
    "    target.fpga_write(target.REG_LB_START_ADDR, int.to_bytes(start, length=4, byteorder='little'))\n",
    "    target.fpga_write(target.REG_LB_STOP_ADDR, int.to_bytes(stop,  length=4, byteorder='little'))\n",
    "    target.fpga_write(target.REG_LB_MANUAL, [3]) # turn off auto test and clear fail\n",
    "    config = 4 # set LFSR mode\n",
    "    target.fpga_write(target.REG_LB_MANUAL, [config]) # turn on test\n",
    "    if verbose: wpbar = tqdm(total=stop, desc='writes')\n",
    "    prevaddr = 0\n",
    "    addr = 0\n",
    "    while addr < stop:\n",
    "        addr = int.from_bytes(target.fpga_read(target.REG_LB_CURRENT_ADDR, 4), byteorder='little') # current address being read/written\n",
    "        if addr < prevaddr:\n",
    "            break\n",
    "        if verbose: wpbar.update(addr - prevaddr)\n",
    "        prevaddr = addr\n",
    "        time.sleep(0.1)\n",
    "        resp_err = target.fpga_read(target.REG_HYPER_STATUS, 1)[0] & 6\n",
    "        if resp_err:\n",
    "            raise ValueError(\"HyperRAM controller got an AXI RESP error! Reset may be required.\")\n",
    "    if verbose: wpbar.close()\n",
    "    \n",
    "    if verbose: rpbar = tqdm(total=stop, desc='reads')\n",
    "    prevaddr = 0\n",
    "    addr = 0\n",
    "    while addr < stop:\n",
    "        addr = int.from_bytes(target.fpga_read(target.REG_LB_CURRENT_ADDR, 4), byteorder='little') # current address being read/written\n",
    "        if addr < prevaddr:\n",
    "            break\n",
    "        if verbose: rpbar.update(addr - prevaddr)\n",
    "        prevaddr = addr\n",
    "        time.sleep(0.1)\n",
    "        resp_err = target.fpga_read(target.REG_HYPER_STATUS, 1)[0] & 6\n",
    "        if resp_err:\n",
    "            raise ValueError(\"HyperRAM controller got an AXI RESP error! Reset may be required.\")\n",
    "\n",
    "    total_errors = int.from_bytes(target.fpga_read(target.REG_LB_ERRORS, 4), byteorder='little')\n",
    "    if verbose: rpbar.close()\n",
    "    \n",
    "    status = target.fpga_read(target.REG_HYPER_STATUS, 1)[0]\n",
    "\n",
    "    if status & 16:\n",
    "        if verbose: print('Test passed')\n",
    "    else:\n",
    "        print('Test FAILED; %d errors' % total_errors)\n",
    "        print('Percentage of good reads: %3.2f%%' % ((1-(total_errors/((stop-start)/4)))*100))\n",
    "\n",
    "def auto_last_address():\n",
    "    return int.from_bytes(target.fpga_read(target.REG_LB_CURRENT_ADDR, 4), byteorder='little')\n",
    "\n",
    "def auto_test_errors():\n",
    "    return int.from_bytes(target.fpga_read(target.REG_LB_ERRORS, 4), byteorder='little')\n",
    "\n",
    "def auto_hyperram_long(start=0, stop=8*1024*1024-4, iterations = 1000):\n",
    "    check_clocks()\n",
    "    target.fpga_write(target.REG_LB_START_ADDR, int.to_bytes(start, length=4, byteorder='little'))\n",
    "    target.fpga_write(target.REG_LB_STOP_ADDR, int.to_bytes(stop,  length=4, byteorder='little')) # note AXI uses byte addressing!\n",
    "    target.fpga_write(target.REG_LB_MANUAL, [3]) # turn off auto test and clear fail\n",
    "    config = 4 # set LFSR mode\n",
    "    target.fpga_write(target.REG_LB_MANUAL, [config]) # turn on test\n",
    "    pbar = tqdm(total=iterations, desc='iterations')\n",
    "    ebar = tqdm(total=1000, desc='errors')\n",
    "    prev_iteration = 0\n",
    "    current_iteration = 0\n",
    "\n",
    "    prev_errors = 0\n",
    "    current_errors = 0\n",
    "\n",
    "    while current_iteration < iterations:\n",
    "        current_iteration = int.from_bytes(target.fpga_read(target.REG_LB_ITERATIONS, 2), byteorder='little')\n",
    "        pbar.update(current_iteration - prev_iteration)\n",
    "        prev_iteration = current_iteration\n",
    "\n",
    "        current_errors = int.from_bytes(target.fpga_read(target.REG_LB_ERRORS, 4), byteorder='little')\n",
    "        ebar.update(current_errors - prev_errors)\n",
    "        prev_errors = current_errors\n",
    "\n",
    "        time.sleep(0.01)\n",
    "        resp_err = target.fpga_read(target.REG_HYPER_STATUS, 1)[0] & 6\n",
    "        if resp_err:\n",
    "            raise ValueError(\"HyperRAM controller got an AXI RESP error! Reset may be required.\")\n",
    "    pbar.close()\n",
    "    ebar.close()\n",
    "\n",
    "    status = target.fpga_read(target.REG_HYPER_STATUS, 1)[0]\n",
    "\n",
    "    if status & 16:\n",
    "        print('Test passed')\n",
    "    else:\n",
    "        print('Test FAILED; %d errors' % current_errors)\n",
    "        print('Percentage of good reads: %3.2f%%' % ((1-(current_errors/((stop-start)*iterations)))*100))\n",
    "\n"
   ]
  },
  {
   "cell_type": "markdown",
   "id": "31bc2dc2-e823-43cc-953b-7aefd78ec65c",
   "metadata": {},
   "source": [
    "Automated check over the full memory space (single iteration):"
   ]
  },
  {
   "cell_type": "code",
   "execution_count": null,
   "id": "83289bf1-0d16-4273-83c7-e4d49e661e0c",
   "metadata": {},
   "outputs": [],
   "source": [
    "reset_hyperram()"
   ]
  },
  {
   "cell_type": "code",
   "execution_count": null,
   "id": "d7dad28f-f8b6-4fd7-89fd-bc6b37514c15",
   "metadata": {},
   "outputs": [],
   "source": [
    "auto_hyperram_test()"
   ]
  },
  {
   "cell_type": "code",
   "execution_count": null,
   "id": "1c0e2d2d",
   "metadata": {},
   "outputs": [],
   "source": [
    "target.ss2.ser.close()"
   ]
  },
  {
   "cell_type": "code",
   "execution_count": null,
   "id": "66441e84",
   "metadata": {},
   "outputs": [],
   "source": []
  },
  {
   "cell_type": "code",
   "execution_count": null,
   "id": "33673a01",
   "metadata": {},
   "outputs": [],
   "source": []
  },
  {
   "cell_type": "code",
   "execution_count": null,
   "id": "786d171a",
   "metadata": {},
   "outputs": [],
   "source": []
  },
  {
   "cell_type": "code",
   "execution_count": null,
   "id": "0941972d",
   "metadata": {},
   "outputs": [],
   "source": []
  },
  {
   "cell_type": "code",
   "execution_count": null,
   "id": "15e16599",
   "metadata": {},
   "outputs": [],
   "source": []
  },
  {
   "cell_type": "code",
   "execution_count": null,
   "id": "b609f4ed",
   "metadata": {},
   "outputs": [],
   "source": []
  },
  {
   "cell_type": "code",
   "execution_count": null,
   "id": "b71b018d",
   "metadata": {},
   "outputs": [],
   "source": []
  },
  {
   "cell_type": "code",
   "execution_count": null,
   "id": "bb5ef9bc",
   "metadata": {},
   "outputs": [],
   "source": []
  },
  {
   "cell_type": "code",
   "execution_count": null,
   "id": "7a729881",
   "metadata": {},
   "outputs": [],
   "source": []
  },
  {
   "cell_type": "markdown",
   "id": "6d3ac05a-52ed-480b-8bb0-904e452a452f",
   "metadata": {},
   "source": [
    "The test keeps running after the single iteration is done:"
   ]
  },
  {
   "cell_type": "code",
   "execution_count": null,
   "id": "17a191bc-44be-44b0-8881-29304bbb4ac4",
   "metadata": {},
   "outputs": [],
   "source": [
    "print('Last read or write address (if stuck): %d' % auto_last_address())\n",
    "print('Numer of errors: %d' % auto_test_errors())\n",
    "print('Number of iterations: %d' % int.from_bytes(target.fpga_read(target.REG_LB_ITERATIONS, 2), byteorder='little'))"
   ]
  },
  {
   "cell_type": "markdown",
   "id": "02f9b78a-0de5-4d1a-8ead-2c6dcf7d7802",
   "metadata": {},
   "source": [
    "To manually stop the test:"
   ]
  },
  {
   "cell_type": "code",
   "execution_count": null,
   "id": "206b6224-4d94-40c2-8dfd-cc80f1fcc53e",
   "metadata": {},
   "outputs": [],
   "source": [
    "auto_hyperram_off()"
   ]
  },
  {
   "cell_type": "markdown",
   "id": "0f14e573-fabf-45ea-ac1c-c1a75abc3644",
   "metadata": {},
   "source": [
    "Report clock frequencies:"
   ]
  },
  {
   "cell_type": "code",
   "execution_count": null,
   "id": "a2c3392b-1bd6-4712-87fa-5194977c0a94",
   "metadata": {},
   "outputs": [],
   "source": [
    "report_clocks()"
   ]
  },
  {
   "cell_type": "markdown",
   "id": "7bae2bfb-e69e-48f2-b5c9-a321cdb16268",
   "metadata": {},
   "source": [
    "To change the clocks, set the multiplier and dividers as desired (use with care!):"
   ]
  },
  {
   "cell_type": "code",
   "execution_count": null,
   "id": "3c3f7882-da71-4aff-bcb5-01a325b4a463",
   "metadata": {},
   "outputs": [],
   "source": [
    "if False:\n",
    "    # 170 MHz HyperRAM clock:\n",
    "    hr_mmcm.set_mul(48)\n",
    "    hr_mmcm.set_sec_div(7)\n",
    "\n",
    "    # 150 MHz HyperRAM clock:\n",
    "    hr_mmcm.set_mul(48)\n",
    "    hr_mmcm.set_sec_div(8)\n",
    "\n",
    "    # 100 MHz AXI clock:\n",
    "    hr_mmcm.set_mul(48)\n",
    "    hr_mmcm.set_sec_div(12)\n",
    "\n",
    "    # 50 MHz AXI clock:\n",
    "    hr_mmcm.set_mul(48)\n",
    "    hr_mmcm.set_sec_div(24)"
   ]
  },
  {
   "cell_type": "markdown",
   "id": "bcedc737-6cb0-4920-9c4b-87ffdb488c41",
   "metadata": {},
   "source": [
    "Overclocking the HyperRAM clock up to 196 MHz should work if you turn on the board's \"TURBO\" mode:"
   ]
  },
  {
   "cell_type": "code",
   "execution_count": null,
   "id": "a309bcd7-44d8-40a4-a641-16e6e66085bd",
   "metadata": {},
   "outputs": [],
   "source": [
    "if False:\n",
    "    hr_mmcm.set_mul(55)\n",
    "    hr_mmcm.set_sec_div(7)"
   ]
  },
  {
   "cell_type": "markdown",
   "id": "de909478-f380-46d6-b493-e98f44f982af",
   "metadata": {},
   "source": [
    "Whenever the HyperRAM clock rate is changed, you should re-run the `reset_hyperram()` command:"
   ]
  },
  {
   "cell_type": "code",
   "execution_count": null,
   "id": "233181af-a2f1-4e97-b671-fba4df20f3eb",
   "metadata": {},
   "outputs": [],
   "source": [
    "reset_hyperram()"
   ]
  },
  {
   "cell_type": "code",
   "execution_count": null,
   "id": "499c4cc0-6f25-4a28-8f48-23d3a9b9d958",
   "metadata": {},
   "outputs": [],
   "source": [
    "# can also limit the address range (e.g. for debugging); start and stop are byte addresses, so this will test addresses 0, 4, 8 and 12: \n",
    "auto_hyperram_test(start=0, stop=12)"
   ]
  },
  {
   "cell_type": "markdown",
   "id": "b8a26d1e-fbe2-48a4-a9dc-83df2c6dab3f",
   "metadata": {},
   "source": [
    "Stress test by running multiple iterations over the full memory space (takes roughly 1 second per iteration):"
   ]
  },
  {
   "cell_type": "code",
   "execution_count": null,
   "id": "4f9ee07c-7d89-4b1d-8964-cb503d6ed73a",
   "metadata": {},
   "outputs": [],
   "source": [
    "auto_hyperram_long(iterations=10)"
   ]
  },
  {
   "cell_type": "markdown",
   "id": "e079bdf7-ab1c-4e6c-9062-18153bb00bb9",
   "metadata": {},
   "source": [
    "Reset stress test: check that HyperRAM always works after a reset:"
   ]
  },
  {
   "cell_type": "code",
   "execution_count": null,
   "id": "5725e15e-4f9d-4d87-8198-4710d764aa42",
   "metadata": {},
   "outputs": [],
   "source": [
    "ITERATIONS = 100\n",
    "from tqdm.notebook import tnrange\n",
    "for i in tnrange(ITERATIONS):\n",
    "    auto_hyperram_test(verbose=False)"
   ]
  },
  {
   "cell_type": "markdown",
   "id": "de43a197-c6a3-4a94-a822-dab68f47d009",
   "metadata": {},
   "source": [
    "Python-driven memory test -- much slower; can be useful to diagnose issues.\n",
    "\n",
    "Unlike the automated test this does not validate the full memory (it would take a few days with this approach!), however it does fully exercise the interface of the memory (with the default settings used below)."
   ]
  },
  {
   "cell_type": "code",
   "execution_count": null,
   "id": "cb583afe-9625-4649-b892-251659de265f",
   "metadata": {},
   "outputs": [],
   "source": [
    "def hbmc_write(address=0, wdata=0x11223344):\n",
    "    check_clocks()\n",
    "    target.fpga_write(target.REG_LB_MANUAL, [3]) # turn off auto test just in case\n",
    "    target.fpga_write(target.REG_LB_START_ADDR, int.to_bytes(address, length=4, byteorder='little'))\n",
    "    target.fpga_write(target.REG_HBMC_SINGLE_DATA, int.to_bytes(wdata, length=4, byteorder='little'))\n",
    "    target.fpga_write(target.REG_HBMC_ACTION, [1])\n",
    "    target.fpga_write(target.REG_HBMC_ACTION, [0])\n",
    "    if not target.fpga_read(target.REG_HBMC_ACTION, 1)[0]:\n",
    "        raise ValueError('HyperRAM controller is stuck!')\n",
    "    return\n",
    "    \n",
    "def hbmc_read(address=0):\n",
    "    check_clocks()\n",
    "    target.fpga_write(target.REG_LB_MANUAL, [3]) # turn off auto test just in case\n",
    "    target.fpga_write(target.REG_LB_START_ADDR, int.to_bytes(address, length=4, byteorder='little'))\n",
    "    target.fpga_write(target.REG_HBMC_ACTION, [2])\n",
    "    target.fpga_write(target.REG_HBMC_ACTION, [0])\n",
    "    if not target.fpga_read(target.REG_HBMC_ACTION, 1)[0]:\n",
    "        raise ValueError('HyperRAM controller is stuck!')\n",
    "    return int.from_bytes(target.fpga_read(target.REG_HBMC_SINGLE_DATA, 4), byteorder='little')\n"
   ]
  },
  {
   "cell_type": "code",
   "execution_count": null,
   "id": "cd0885dd-35fd-4f84-9ce2-de8623021571",
   "metadata": {},
   "outputs": [],
   "source": [
    "hbmc_write(wdata=0xffffffff)"
   ]
  },
  {
   "cell_type": "code",
   "execution_count": null,
   "id": "f101b489-c38f-4861-9530-391f5990cfc2",
   "metadata": {},
   "outputs": [],
   "source": [
    "hex(hbmc_read())"
   ]
  },
  {
   "cell_type": "code",
   "execution_count": null,
   "id": "ade32b75-20a0-4dc0-8b15-44a90f48106f",
   "metadata": {},
   "outputs": [],
   "source": [
    "WORDS = 32\n",
    "#WORDS = 1024\n",
    "\n",
    "# start address for the test (divide what auto_last_address() reports by 2):\n",
    "START = 0\n",
    "#START = 233000//2"
   ]
  },
  {
   "cell_type": "code",
   "execution_count": null,
   "id": "983d446d-0e36-4bba-a1ed-d6a8d6f5c2cd",
   "metadata": {},
   "outputs": [],
   "source": [
    "import random\n",
    "from tqdm.notebook import tnrange\n",
    "\n",
    "target.fpga_write(target.REG_LB_MANUAL, [3]) # turn off auto test and clear fail\n",
    "\n",
    "wdata = []\n",
    "errors = 0\n",
    "goods = 0\n",
    "for i in tnrange(START, START+WORDS, desc='Writing'):\n",
    "    data = random.randint(0, 2**32-1)\n",
    "    hbmc_write(i*4, data)\n",
    "    wdata.append(data)\n",
    "    busy_stuck = target.fpga_read(0x83, 1)[0] & 6\n",
    "    not_idle = not target.fpga_read(target.REG_HBMC_ACTION, 1)[0]\n",
    "    if busy_stuck or not_idle:\n",
    "        raise ValueError(\"Hyperram controller appears to be stuck on address %08x! Run reset_hyperram() to reset it before trying again.\" % (i*4))\n",
    "\n",
    "\n",
    "for i in tnrange(START, START+WORDS, desc='Reading'):\n",
    "    rdata = hbmc_read(i*4)\n",
    "    busy_stuck = target.fpga_read(0x83, 1)[0] & 6\n",
    "    not_idle = not target.fpga_read(target.REG_HBMC_ACTION, 1)[0]\n",
    "    if busy_stuck or not_idle:\n",
    "        raise ValueError(\"Hyperram controller appears to be stuck on address %08x! Re-run the reset_hyperram() and set_config() cells to reset it before trying again.\" % (i*2))\n",
    "    if rdata != wdata[i]:\n",
    "        errors += 1\n",
    "        if errors < 10:\n",
    "            print('i=%3d: got %08x, expected %08x, diff %08x, bits wrong: %3d' % (i, rdata, wdata[i], rdata ^ wdata[i], bin(rdata ^ wdata[i]).count('1')))\n",
    "        else:\n",
    "            goods += 1\n",
    "    else:\n",
    "        if goods == 0:\n",
    "            print('Good read for i=%3d' % i)\n",
    "        goods += 1\n",
    "\n",
    "print('Percentage of good reads: %d%%' % (goods/(errors+goods)*100))\n",
    "assert errors == 0, '%d errors!' % errors"
   ]
  },
  {
   "cell_type": "code",
   "execution_count": null,
   "id": "ae39f0c4-4f79-40d7-b9bd-6a2be02af1a1",
   "metadata": {},
   "outputs": [],
   "source": []
  },
  {
   "cell_type": "code",
   "execution_count": null,
   "id": "cfb1fbf6-fa7e-40fd-bd69-cfbd5c09668a",
   "metadata": {},
   "outputs": [],
   "source": []
  }
 ],
 "metadata": {
  "kernelspec": {
   "display_name": "Python 3",
   "language": "python",
   "name": "python3"
  },
  "language_info": {
   "codemirror_mode": {
    "name": "ipython",
    "version": 3
   },
   "file_extension": ".py",
   "mimetype": "text/x-python",
   "name": "python",
   "nbconvert_exporter": "python",
   "pygments_lexer": "ipython3",
   "version": "3.6.9"
  }
 },
 "nbformat": 4,
 "nbformat_minor": 5
}
